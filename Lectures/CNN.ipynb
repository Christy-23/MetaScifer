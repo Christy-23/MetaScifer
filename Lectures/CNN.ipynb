{
 "cells": [
  {
   "cell_type": "markdown",
   "id": "e13692c7",
   "metadata": {},
   "source": [
    "##  Assignment: MNIST Image Classification using Convolutional Neural Networks (CNNs)\n",
    "\n",
    "### Objective:\n",
    "Design and implement a Convolutional Neural Network (CNN) to perform handwritten digit classification using the **MNIST dataset**.\n",
    "\n",
    "### Requirements:\n",
    "\n",
    "Your CNN architecture must include the following:\n",
    "\n",
    "- **Three convolutional layers**, each with:\n",
    "  - **32 filters**\n",
    "  - **Kernel size: 3×3**\n",
    "  - Suitable activation function (e.g., ReLU)\n",
    "\n",
    "- **Two Max Pooling layers** placed appropriately after convolutional layers.\n",
    "\n",
    "- A **Flatten** layer to convert feature maps into a 1D vector.\n",
    "\n",
    "- One or more **Dense (fully connected) layers**, including:\n",
    "  - An appropriate output layer for **multi-class classification** (10 classes).\n",
    "\n",
    "- Use a suitable **loss function**, **optimizer**, and **metrics** for model compilation.\n",
    "\n",
    "### Instructions:\n",
    "\n",
    "1. **Load and preprocess** the MNIST dataset (normalization, reshaping, etc.).\n",
    "2. **Construct** the CNN model according to the architecture specified above.\n",
    "3. **Compile** the model using appropriate parameters.\n",
    "4. **Train** the model and display training/validation accuracy.\n",
    "5. **Evaluate** the model on the test data and report the final accuracy.\n",
    "6. Ensure your code is **well-commented and neatly organized**.\n",
    "\n",
    "### Deliverables:\n",
    "\n",
    "- Submit the complete **Jupyter Notebook (.ipynb)** file.\n",
    "- Your notebook should include:\n",
    "  - All code cells with implementation.\n",
    "  - Markdown cells explaining each step and block of code.\n",
    "  - Final accuracy and observations.\n",
    "\n",
    "---\n",
    "\n",
    " *Bonus (Optional): Try adding dropout or batch normalization and observe performance changes.*\n",
    " \n",
    " \n",
    "### Required Libraries:\n",
    "\n",
    "You are expected to use the following Python libraries:\n",
    "\n",
    "```python\n",
    "import numpy as np\n",
    "import matplotlib.pyplot as plt\n",
    "from tensorflow.keras.datasets import mnist\n",
    "from tensorflow.keras.models import Sequential\n",
    "from tensorflow.keras.layers import Conv2D, MaxPooling2D, Flatten, Dense\n",
    "from tensorflow.keras.utils import to_categorical\n"
   ]
  },
  {
   "cell_type": "code",
   "execution_count": null,
   "id": "755f21f4",
   "metadata": {},
   "outputs": [],
   "source": []
  }
 ],
 "metadata": {
  "kernelspec": {
   "display_name": "Python 3 (ipykernel)",
   "language": "python",
   "name": "python3"
  },
  "language_info": {
   "codemirror_mode": {
    "name": "ipython",
    "version": 3
   },
   "file_extension": ".py",
   "mimetype": "text/x-python",
   "name": "python",
   "nbconvert_exporter": "python",
   "pygments_lexer": "ipython3",
   "version": "3.10.12"
  }
 },
 "nbformat": 4,
 "nbformat_minor": 5
}
