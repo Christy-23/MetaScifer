{
 "cells": [
  {
   "cell_type": "markdown",
   "id": "bdb2ee5e",
   "metadata": {},
   "source": [
    "## Test 3.0\n"
   ]
  },
  {
   "cell_type": "code",
   "execution_count": null,
   "id": "9ea78eeb",
   "metadata": {},
   "outputs": [],
   "source": []
  },
  {
   "cell_type": "raw",
   "id": "f91e1f0a",
   "metadata": {},
   "source": [
    "Write a Python program to check whether a number is even or odd using if-else."
   ]
  },
  {
   "cell_type": "code",
   "execution_count": null,
   "id": "256980f3",
   "metadata": {},
   "outputs": [],
   "source": []
  },
  {
   "cell_type": "raw",
   "id": "a0e3a554",
   "metadata": {},
   "source": [
    "Write a for loop that prints numbers from 10 to 1 in reverse"
   ]
  },
  {
   "cell_type": "code",
   "execution_count": null,
   "id": "e9ad4e5d",
   "metadata": {},
   "outputs": [],
   "source": []
  },
  {
   "cell_type": "raw",
   "id": "589596de",
   "metadata": {},
   "source": [
    "Write a while loop that keeps asking the user to input a number until they enter 0."
   ]
  },
  {
   "cell_type": "code",
   "execution_count": null,
   "id": "b0279e4c",
   "metadata": {},
   "outputs": [],
   "source": []
  },
  {
   "cell_type": "raw",
   "id": "e17f026e",
   "metadata": {},
   "source": [
    "Write a function that accepts two numbers and returns their sum."
   ]
  },
  {
   "cell_type": "code",
   "execution_count": null,
   "id": "49132598",
   "metadata": {},
   "outputs": [],
   "source": []
  },
  {
   "cell_type": "code",
   "execution_count": null,
   "id": "cae99b95",
   "metadata": {},
   "outputs": [],
   "source": [
    "What will be the output of this code: print(list(map(lambda x: x*x, [1, 2, 3])))?"
   ]
  },
  {
   "cell_type": "code",
   "execution_count": null,
   "id": "20c6ce60",
   "metadata": {},
   "outputs": [],
   "source": []
  },
  {
   "cell_type": "raw",
   "id": "033b1be4",
   "metadata": {},
   "source": [
    "Use the filter() function to extract only even numbers from a list."
   ]
  },
  {
   "cell_type": "code",
   "execution_count": null,
   "id": "8716b707",
   "metadata": {},
   "outputs": [],
   "source": []
  },
  {
   "cell_type": "markdown",
   "id": "f2270173",
   "metadata": {},
   "source": [
    "Explain the purpose of the else block in a try-except-else construct."
   ]
  },
  {
   "cell_type": "code",
   "execution_count": null,
   "id": "c83d36e9",
   "metadata": {},
   "outputs": [],
   "source": []
  },
  {
   "cell_type": "raw",
   "id": "d72612b0",
   "metadata": {},
   "source": [
    "Write a try-except block to handle division by zero."
   ]
  },
  {
   "cell_type": "code",
   "execution_count": null,
   "id": "887af7c3",
   "metadata": {},
   "outputs": [],
   "source": []
  },
  {
   "cell_type": "raw",
   "id": "f13a480f",
   "metadata": {},
   "source": [
    "What is the output of this lambda function? print((lambda x, y: x+y)(5, 3))"
   ]
  },
  {
   "cell_type": "code",
   "execution_count": null,
   "id": "93c08075",
   "metadata": {},
   "outputs": [],
   "source": []
  },
  {
   "cell_type": "raw",
   "id": "bdddf4c4",
   "metadata": {},
   "source": [
    "Define a class named Dog with properties name and breed. Add a method bark()."
   ]
  },
  {
   "cell_type": "code",
   "execution_count": null,
   "id": "1ebda62c",
   "metadata": {},
   "outputs": [],
   "source": []
  },
  {
   "cell_type": "raw",
   "id": "9223ccfa",
   "metadata": {},
   "source": [
    "Create two objects of the Dog class and call their methods."
   ]
  },
  {
   "cell_type": "code",
   "execution_count": null,
   "id": "7f66b4ed",
   "metadata": {},
   "outputs": [],
   "source": []
  },
  {
   "cell_type": "raw",
   "id": "46358e90",
   "metadata": {},
   "source": [
    "What is the difference between class variables and instance variables?"
   ]
  },
  {
   "cell_type": "code",
   "execution_count": null,
   "id": "ef9ce8a8",
   "metadata": {},
   "outputs": [],
   "source": []
  },
  {
   "cell_type": "raw",
   "id": "c3238a89",
   "metadata": {},
   "source": [
    "What will this print: print(\"apple\" if 5 > 3 else \"banana\")?"
   ]
  },
  {
   "cell_type": "code",
   "execution_count": null,
   "id": "2e5cfd9a",
   "metadata": {},
   "outputs": [],
   "source": []
  },
  {
   "cell_type": "raw",
   "id": "a520dafc",
   "metadata": {},
   "source": [
    "Write a function that accepts a list and returns the list of squares using list comprehension."
   ]
  },
  {
   "cell_type": "code",
   "execution_count": null,
   "id": "0a6bc8c5",
   "metadata": {},
   "outputs": [],
   "source": []
  },
  {
   "cell_type": "raw",
   "id": "56654a24",
   "metadata": {},
   "source": [
    "Explain what map() and filter() return when executed."
   ]
  },
  {
   "cell_type": "code",
   "execution_count": null,
   "id": "04642561",
   "metadata": {},
   "outputs": [],
   "source": []
  },
  {
   "cell_type": "code",
   "execution_count": null,
   "id": "5c3ec24b",
   "metadata": {},
   "outputs": [],
   "source": []
  },
  {
   "cell_type": "markdown",
   "id": "d1b7d7c8",
   "metadata": {},
   "source": [
    "### Numpy"
   ]
  },
  {
   "cell_type": "raw",
   "id": "d18477a9",
   "metadata": {},
   "source": [
    "Create a 3x3 matrix using np.random.randint(0, 10, (3, 3))."
   ]
  },
  {
   "cell_type": "code",
   "execution_count": null,
   "id": "a0324c7e",
   "metadata": {},
   "outputs": [],
   "source": []
  },
  {
   "cell_type": "raw",
   "id": "68d9a258",
   "metadata": {},
   "source": [
    "Slice the above matrix to extract the first two rows."
   ]
  },
  {
   "cell_type": "code",
   "execution_count": null,
   "id": "08081bab",
   "metadata": {},
   "outputs": [],
   "source": []
  },
  {
   "cell_type": "markdown",
   "id": "0030743a",
   "metadata": {},
   "source": [
    "Combine two 3x3 matrices using np.concatenate along axis 0 and axis 1."
   ]
  },
  {
   "cell_type": "code",
   "execution_count": null,
   "id": "9bbfecf6",
   "metadata": {},
   "outputs": [],
   "source": []
  },
  {
   "cell_type": "raw",
   "id": "2db85140",
   "metadata": {},
   "source": [
    "Perform element-wise addition, subtraction, and multiplication of two matrices."
   ]
  },
  {
   "cell_type": "code",
   "execution_count": null,
   "id": "6f3b90e9",
   "metadata": {},
   "outputs": [],
   "source": []
  },
  {
   "cell_type": "raw",
   "id": "5acf9813",
   "metadata": {},
   "source": [
    "Demonstrate broadcasting by adding a 1D array to a 2D array."
   ]
  },
  {
   "cell_type": "code",
   "execution_count": null,
   "id": "97985e99",
   "metadata": {},
   "outputs": [],
   "source": []
  },
  {
   "cell_type": "raw",
   "id": "d4a90b42",
   "metadata": {},
   "source": [
    "Use np.clip to limit values in a matrix to a minimum of 2 and maximum of 8."
   ]
  },
  {
   "cell_type": "code",
   "execution_count": null,
   "id": "6d56ccb1",
   "metadata": {},
   "outputs": [],
   "source": []
  },
  {
   "cell_type": "raw",
   "id": "4a1ae5f5",
   "metadata": {},
   "source": [
    "Use np.ceil on an array of floating-point numbers [1.2, 2.5, 3.8]."
   ]
  },
  {
   "cell_type": "code",
   "execution_count": null,
   "id": "e94a509e",
   "metadata": {},
   "outputs": [],
   "source": []
  },
  {
   "cell_type": "raw",
   "id": "ec39504d",
   "metadata": {},
   "source": [
    "Use np.where to replace all elements greater than 5 with 100 in a given array."
   ]
  },
  {
   "cell_type": "code",
   "execution_count": null,
   "id": "61df0ab6",
   "metadata": {},
   "outputs": [],
   "source": []
  },
  {
   "cell_type": "raw",
   "id": "1d797f53",
   "metadata": {},
   "source": [
    "Create two 2x2 matrices and compute their dot product."
   ]
  },
  {
   "cell_type": "code",
   "execution_count": null,
   "id": "987a6a84",
   "metadata": {},
   "outputs": [],
   "source": []
  },
  {
   "cell_type": "raw",
   "id": "8b1747c5",
   "metadata": {},
   "source": [
    "What is the difference between np.array([1, 2, 3]) and np.array([[1, 2, 3]])?"
   ]
  },
  {
   "cell_type": "code",
   "execution_count": null,
   "id": "101e2e98",
   "metadata": {},
   "outputs": [],
   "source": []
  },
  {
   "cell_type": "raw",
   "id": "f99a5cea",
   "metadata": {},
   "source": [
    "All the Best \n",
    "*Submit Before 10 PM* "
   ]
  },
  {
   "cell_type": "code",
   "execution_count": null,
   "id": "b1389a7c",
   "metadata": {},
   "outputs": [],
   "source": []
  }
 ],
 "metadata": {
  "kernelspec": {
   "display_name": "Python 3 (ipykernel)",
   "language": "python",
   "name": "python3"
  },
  "language_info": {
   "codemirror_mode": {
    "name": "ipython",
    "version": 3
   },
   "file_extension": ".py",
   "mimetype": "text/x-python",
   "name": "python",
   "nbconvert_exporter": "python",
   "pygments_lexer": "ipython3",
   "version": "3.10.12"
  }
 },
 "nbformat": 4,
 "nbformat_minor": 5
}
