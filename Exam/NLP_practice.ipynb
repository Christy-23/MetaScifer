{
 "cells": [
  {
   "cell_type": "markdown",
   "id": "17f3cd3d-ea85-43fa-9c28-8c28548ba9bc",
   "metadata": {
    "id": "17f3cd3d-ea85-43fa-9c28-8c28548ba9bc"
   },
   "source": [
    "### Python String"
   ]
  },
  {
   "cell_type": "code",
   "execution_count": 72,
   "id": "84887300-6985-4fff-8f01-93ab730e8f2c",
   "metadata": {
    "colab": {
     "base_uri": "https://localhost:8080/"
    },
    "id": "84887300-6985-4fff-8f01-93ab730e8f2c",
    "outputId": "3e32e2d8-6e86-4c46-f82a-51979a30b2ce"
   },
   "outputs": [
    {
     "name": "stdout",
     "output_type": "stream",
     "text": [
      "DATa\n"
     ]
    }
   ],
   "source": [
    "a='DATa'\n",
    "print(a)"
   ]
  },
  {
   "cell_type": "markdown",
   "id": "7acd642f-f749-4deb-b9c1-e7165ecafd3e",
   "metadata": {
    "id": "7acd642f-f749-4deb-b9c1-e7165ecafd3e"
   },
   "source": [
    "### Strings are arrays"
   ]
  },
  {
   "cell_type": "code",
   "execution_count": 73,
   "id": "74008d2b-75c7-4134-bafc-6bb2c6a7bc78",
   "metadata": {
    "colab": {
     "base_uri": "https://localhost:8080/"
    },
    "id": "74008d2b-75c7-4134-bafc-6bb2c6a7bc78",
    "outputId": "bd7eb036-a62d-497e-f25a-63a74239006a"
   },
   "outputs": [
    {
     "name": "stdout",
     "output_type": "stream",
     "text": [
      "S\n"
     ]
    }
   ],
   "source": [
    "a='DATASET'\n",
    "print(a[4])"
   ]
  },
  {
   "cell_type": "markdown",
   "id": "bc15bf91-e8b8-4de5-ae0f-f3f2e4888a98",
   "metadata": {
    "id": "bc15bf91-e8b8-4de5-ae0f-f3f2e4888a98"
   },
   "source": [
    "### Slicing"
   ]
  },
  {
   "cell_type": "code",
   "execution_count": 74,
   "id": "a6db4d0d-9ea6-4207-a63c-f1869d29f5aa",
   "metadata": {
    "colab": {
     "base_uri": "https://localhost:8080/"
    },
    "id": "a6db4d0d-9ea6-4207-a63c-f1869d29f5aa",
    "outputId": "f12bd4a3-d19e-4ca9-9adc-ab14b62988ad"
   },
   "outputs": [
    {
     "name": "stdout",
     "output_type": "stream",
     "text": [
      "A S\n",
      "TA S\n",
      "T \n"
     ]
    }
   ],
   "source": [
    "a='DATA SET'\n",
    "print(a[3:6])\n",
    "print(a[-6:-2])\n",
    "print(a[2:6:2])"
   ]
  },
  {
   "cell_type": "markdown",
   "id": "1ca32f5a-8943-493e-a19f-09bbc99d2ffc",
   "metadata": {
    "id": "1ca32f5a-8943-493e-a19f-09bbc99d2ffc"
   },
   "source": [
    "### String Methods"
   ]
  },
  {
   "cell_type": "code",
   "execution_count": 75,
   "id": "75ac95f3-bd9b-4228-abf1-1a4d4efe3f3a",
   "metadata": {
    "colab": {
     "base_uri": "https://localhost:8080/"
    },
    "id": "75ac95f3-bd9b-4228-abf1-1a4d4efe3f3a",
    "outputId": "4feb3958-e739-4aa8-8dbf-d349b6549269"
   },
   "outputs": [
    {
     "name": "stdout",
     "output_type": "stream",
     "text": [
      "['DATA', 'SET']\n"
     ]
    }
   ],
   "source": [
    "# strip() will remove whitespace\n",
    "print(a.split())"
   ]
  },
  {
   "cell_type": "code",
   "execution_count": 76,
   "id": "56111d85-83d3-4613-819e-25dec8282fa1",
   "metadata": {
    "colab": {
     "base_uri": "https://localhost:8080/"
    },
    "id": "56111d85-83d3-4613-819e-25dec8282fa1",
    "outputId": "ee81db18-f785-4167-c61f-ef5ba76af383"
   },
   "outputs": [
    {
     "name": "stdout",
     "output_type": "stream",
     "text": [
      "data set\n"
     ]
    }
   ],
   "source": [
    "#lower()-converts lowercase word\n",
    "print(a.lower())"
   ]
  },
  {
   "cell_type": "code",
   "execution_count": 77,
   "id": "4969e9bb-a5d3-4799-bb98-2ce7be8f50e0",
   "metadata": {
    "colab": {
     "base_uri": "https://localhost:8080/"
    },
    "id": "4969e9bb-a5d3-4799-bb98-2ce7be8f50e0",
    "outputId": "30403ad1-3f13-40ca-f29a-eafb8e701de0"
   },
   "outputs": [
    {
     "name": "stdout",
     "output_type": "stream",
     "text": [
      "DATA SET\n"
     ]
    }
   ],
   "source": [
    "#upper()-converts uppercase word\n",
    "print(a.upper())"
   ]
  },
  {
   "cell_type": "code",
   "execution_count": 78,
   "id": "e8c9176a-898c-46b9-8525-e6e0b0a87534",
   "metadata": {
    "colab": {
     "base_uri": "https://localhost:8080/"
    },
    "id": "e8c9176a-898c-46b9-8525-e6e0b0a87534",
    "outputId": "54f6a9fa-8b2b-4d18-fe77-3ef7e0d5de9f"
   },
   "outputs": [
    {
     "name": "stdout",
     "output_type": "stream",
     "text": [
      "me am chrmesty\n"
     ]
    }
   ],
   "source": [
    "#replace()-replace one string with another string\n",
    "a= 'i am christy'\n",
    "print(a.replace('i', 'me'))"
   ]
  },
  {
   "cell_type": "markdown",
   "id": "2d1be2c9-f013-4ea2-8d2c-870b90ef34e9",
   "metadata": {
    "id": "2d1be2c9-f013-4ea2-8d2c-870b90ef34e9"
   },
   "source": [
    "### String Concatenation"
   ]
  },
  {
   "cell_type": "code",
   "execution_count": 79,
   "id": "74d15453-1c4e-4066-9280-530a6f9c45d7",
   "metadata": {
    "colab": {
     "base_uri": "https://localhost:8080/"
    },
    "id": "74d15453-1c4e-4066-9280-530a6f9c45d7",
    "outputId": "e7312682-afe4-4e90-9e59-dbd73f3192f7"
   },
   "outputs": [
    {
     "name": "stdout",
     "output_type": "stream",
     "text": [
      "data test Train\n"
     ]
    }
   ],
   "source": [
    "a='data test'\n",
    "b='Train'\n",
    "print(a+' '+b)"
   ]
  },
  {
   "cell_type": "markdown",
   "id": "4ecbcfea-830c-404a-be52-af5ce4a8b6b0",
   "metadata": {
    "id": "4ecbcfea-830c-404a-be52-af5ce4a8b6b0"
   },
   "source": [
    "### Create a text file"
   ]
  },
  {
   "cell_type": "code",
   "execution_count": 80,
   "id": "bf25a5b1-9d53-4ed0-b725-37bd7203aca6",
   "metadata": {
    "id": "bf25a5b1-9d53-4ed0-b725-37bd7203aca6"
   },
   "outputs": [],
   "source": [
    "# Step 1\n",
    "file=open('datatest.txt', 'w+')"
   ]
  },
  {
   "cell_type": "code",
   "execution_count": 81,
   "id": "395857f9-d660-4cb4-a399-89e1e8dfb8ce",
   "metadata": {
    "id": "395857f9-d660-4cb4-a399-89e1e8dfb8ce"
   },
   "outputs": [],
   "source": [
    "# Step 2\n",
    "for i in range(5):\n",
    "    file.write('Line number is %d\\r\\n'%(i+1))"
   ]
  },
  {
   "cell_type": "code",
   "execution_count": 82,
   "id": "d208ecb0-4b66-459c-9503-7086bf4dc14d",
   "metadata": {
    "id": "d208ecb0-4b66-459c-9503-7086bf4dc14d"
   },
   "outputs": [],
   "source": [
    "# Step 3\n",
    "file.close()"
   ]
  },
  {
   "attachments": {
    "43678088-033f-4f57-85fa-c29e0cb154af.png": {
     "image/png": "[encoded data removed]"
    }
   },
   "cell_type": "markdown",
   "id": "204bb6f3-3082-4f0d-b944-9e8280654dc4",
   "metadata": {
    "id": "204bb6f3-3082-4f0d-b944-9e8280654dc4"
   },
   "source": [
    "![datatest.png](attachment:43678088-033f-4f57-85fa-c29e0cb154af.png)"
   ]
  },
  {
   "cell_type": "markdown",
   "id": "68c966f3-7ebd-430d-b66a-4c2e0fec8fc5",
   "metadata": {
    "id": "68c966f3-7ebd-430d-b66a-4c2e0fec8fc5"
   },
   "source": [
    "### Append data to a file"
   ]
  },
  {
   "cell_type": "code",
   "execution_count": 83,
   "id": "a5045c45-3c95-40ce-8551-21f9324c880c",
   "metadata": {
    "id": "a5045c45-3c95-40ce-8551-21f9324c880c"
   },
   "outputs": [],
   "source": [
    "# Step 1\n",
    "file=open('datatest.txt', 'a+')"
   ]
  },
  {
   "cell_type": "code",
   "execution_count": 84,
   "id": "e86ce92a-7133-4b53-8f69-d9355a8bbb9f",
   "metadata": {
    "id": "e86ce92a-7133-4b53-8f69-d9355a8bbb9f"
   },
   "outputs": [],
   "source": [
    "# Step 2\n",
    "for i in range(5):\n",
    "    file.write('Appending Line number %d\\r\\n'%(i+1))"
   ]
  },
  {
   "cell_type": "code",
   "execution_count": 85,
   "id": "38658ab8-fb84-4f25-8756-66c80b8fdf35",
   "metadata": {
    "id": "38658ab8-fb84-4f25-8756-66c80b8fdf35"
   },
   "outputs": [],
   "source": [
    "# Step 3\n",
    "file.close()"
   ]
  },
  {
   "attachments": {
    "ada9a7d8-f371-491a-93ea-b2bc597037e4.png": {
     "image/png": "[encoded data removed]"
    }
   },
   "cell_type": "markdown",
   "id": "e94157c4-7871-403d-8aed-6ea216096bc6",
   "metadata": {
    "id": "e94157c4-7871-403d-8aed-6ea216096bc6"
   },
   "source": [
    "![Screenshot 2025-07-22 221941.png](attachment:ada9a7d8-f371-491a-93ea-b2bc597037e4.png)"
   ]
  },
  {
   "cell_type": "markdown",
   "id": "adaa4053-f95e-4176-844b-4c1a6434b105",
   "metadata": {
    "id": "adaa4053-f95e-4176-844b-4c1a6434b105"
   },
   "source": [
    "### Read the files"
   ]
  },
  {
   "cell_type": "code",
   "execution_count": 86,
   "id": "26caf116-4cba-41f7-ab79-ff6a28eb66be",
   "metadata": {
    "id": "26caf116-4cba-41f7-ab79-ff6a28eb66be"
   },
   "outputs": [],
   "source": [
    "# Step 1// open the file in read mode\n",
    "file=open('datatest.txt', 'r')"
   ]
  },
  {
   "cell_type": "code",
   "execution_count": 87,
   "id": "a761a887-01b6-4c2d-8f27-e7b11652eeee",
   "metadata": {
    "id": "a761a887-01b6-4c2d-8f27-e7b11652eeee"
   },
   "outputs": [],
   "source": [
    "# Step 2// check our file is open or not\n",
    "if file.mode == 'r':\n",
    "    content=file.read() # strore it in the variable"
   ]
  },
  {
   "cell_type": "code",
   "execution_count": 88,
   "id": "dbfd4f64-bda3-457a-a548-9b721bfc9d5c",
   "metadata": {
    "colab": {
     "base_uri": "https://localhost:8080/"
    },
    "id": "dbfd4f64-bda3-457a-a548-9b721bfc9d5c",
    "outputId": "92ec5fc4-f435-4b0c-c35c-5fdcd91365a1"
   },
   "outputs": [
    {
     "name": "stdout",
     "output_type": "stream",
     "text": [
      "Line number is 1\n",
      "Line number is 2\n",
      "Line number is 3\n",
      "Line number is 4\n",
      "Line number is 5\n",
      "Appending Line number 1\n",
      "Appending Line number 2\n",
      "Appending Line number 3\n",
      "Appending Line number 4\n",
      "Appending Line number 5\n",
      "\n",
      "The output will be\n"
     ]
    }
   ],
   "source": [
    "# Step 3// printing the file\n",
    "print(content)\n",
    "print('The output will be')"
   ]
  },
  {
   "cell_type": "markdown",
   "id": "01c887b9-8f3f-4efa-9c5c-a3c68483546d",
   "metadata": {
    "id": "01c887b9-8f3f-4efa-9c5c-a3c68483546d"
   },
   "source": [
    "### Text Preprocessing"
   ]
  },
  {
   "cell_type": "code",
   "execution_count": 89,
   "id": "6b860a7b-4b19-4ca5-813b-58deda0a0cd5",
   "metadata": {
    "id": "6b860a7b-4b19-4ca5-813b-58deda0a0cd5"
   },
   "outputs": [],
   "source": [
    "# Import necessary libraries\n",
    "import nltk\n",
    "import string\n",
    "import re"
   ]
  },
  {
   "cell_type": "code",
   "execution_count": 90,
   "id": "b18474f2-51ab-4a31-88f1-9e76a766e062",
   "metadata": {
    "colab": {
     "base_uri": "https://localhost:8080/",
     "height": 36
    },
    "id": "b18474f2-51ab-4a31-88f1-9e76a766e062",
    "outputId": "81e814ec-db33-4889-fbcb-b975b1dbf643"
   },
   "outputs": [
    {
     "data": {
      "application/vnd.google.colaboratory.intrinsic+json": {
       "type": "string"
      },
      "text/plain": [
       "'You bought  candles from shope, and  candies are in home'"
      ]
     },
     "execution_count": 90,
     "metadata": {},
     "output_type": "execute_result"
    }
   ],
   "source": [
    "# Removing numbers\n",
    "def remove_num(text):\n",
    "    result=re.sub(r'\\d+', '', text)\n",
    "    return result\n",
    "input_s='You bought 6 candles from shope, and 4 candies are in home'\n",
    "remove_num(input_s)"
   ]
  },
  {
   "cell_type": "code",
   "execution_count": 91,
   "id": "cc5fbf50-34b7-48d3-a588-a97c0f35e1ca",
   "metadata": {
    "colab": {
     "base_uri": "https://localhost:8080/"
    },
    "id": "cc5fbf50-34b7-48d3-a588-a97c0f35e1ca",
    "outputId": "cc476db0-8831-404b-860f-297741416e8f"
   },
   "outputs": [
    {
     "name": "stdout",
     "output_type": "stream",
     "text": [
      "Requirement already satisfied: inflect in /usr/local/lib/python3.11/dist-packages (7.5.0)\n",
      "Requirement already satisfied: more_itertools>=8.5.0 in /usr/local/lib/python3.11/dist-packages (from inflect) (10.7.0)\n",
      "Requirement already satisfied: typeguard>=4.0.1 in /usr/local/lib/python3.11/dist-packages (from inflect) (4.4.4)\n",
      "Requirement already satisfied: typing_extensions>=4.14.0 in /usr/local/lib/python3.11/dist-packages (from typeguard>=4.0.1->inflect) (4.14.1)\n"
     ]
    }
   ],
   "source": [
    "!pip install inflect"
   ]
  },
  {
   "cell_type": "code",
   "execution_count": 92,
   "id": "9b2e77d1-b63f-44db-a7dc-aa98f81ee4f4",
   "metadata": {
    "id": "9b2e77d1-b63f-44db-a7dc-aa98f81ee4f4"
   },
   "outputs": [],
   "source": [
    "# import library\n",
    "import inflect\n",
    "inf=inflect.engine()"
   ]
  },
  {
   "cell_type": "code",
   "execution_count": 93,
   "id": "93HLymVIRTGR",
   "metadata": {
    "colab": {
     "base_uri": "https://localhost:8080/"
    },
    "id": "93HLymVIRTGR",
    "outputId": "7737bc41-3b44-4ac9-c53c-649054532014"
   },
   "outputs": [
    {
     "data": {
      "text/plain": [
       "['You',\n",
       " 'bought',\n",
       " 'six',\n",
       " 'candies',\n",
       " 'from',\n",
       " 'shop,',\n",
       " 'and',\n",
       " 'four',\n",
       " 'candies',\n",
       " 'are',\n",
       " 'in',\n",
       " 'home.']"
      ]
     },
     "execution_count": 93,
     "metadata": {},
     "output_type": "execute_result"
    }
   ],
   "source": [
    "#convert number into text\n",
    "def convert_num(text):\n",
    "  # split strings into list of texts\n",
    "  temp_string = text.split()\n",
    "  # initialise empty list\n",
    "  new_string = []\n",
    "\n",
    "  for word in temp_string:\n",
    "    #if text is a digit, convert the digit\n",
    "    # to numbers and append into the new str list\n",
    "    if word.isdigit():\n",
    "      temp = inf.number_to_words(word)\n",
    "      new_string.append(temp)\n",
    "    else:\n",
    "      new_string.append(word)\n",
    "  #Join the texts of new str to form a string\n",
    "  temp_str = ' '.join(new_string)\n",
    "  return new_string\n",
    "\n",
    "input_str = 'You bought 6 candies from shop, and 4 candies are in home.'\n",
    "convert_num(input_str)"
   ]
  },
  {
   "cell_type": "markdown",
   "id": "3G-usUXHTbh9",
   "metadata": {
    "id": "3G-usUXHTbh9"
   },
   "source": [
    "### Remove Punctuation"
   ]
  },
  {
   "cell_type": "code",
   "execution_count": 94,
   "id": "hQIhJ2NATY7T",
   "metadata": {
    "colab": {
     "base_uri": "https://localhost:8080/",
     "height": 36
    },
    "id": "hQIhJ2NATY7T",
    "outputId": "cba7044f-4d9d-4392-e2ca-a404be38f610"
   },
   "outputs": [
    {
     "data": {
      "application/vnd.google.colaboratory.intrinsic+json": {
       "type": "string"
      },
      "text/plain": [
       "'Hey are you excited after a week we will be in Shimla'"
      ]
     },
     "execution_count": 94,
     "metadata": {},
     "output_type": "execute_result"
    }
   ],
   "source": [
    "# Remove punctuation\n",
    "def remove_punc(text):\n",
    "    translator=str.maketrans('', '', string.punctuation)\n",
    "    return text.translate(translator)\n",
    "\n",
    "input_str = 'Hey, are you excited??, after a week, we will be in Shimla!!!'\n",
    "remove_punc(input_str)"
   ]
  },
  {
   "cell_type": "code",
   "execution_count": 95,
   "id": "tg55VjyLUnMm",
   "metadata": {
    "colab": {
     "base_uri": "https://localhost:8080/",
     "height": 36
    },
    "id": "tg55VjyLUnMm",
    "outputId": "6a16fade-b74a-4c37-fef9-fc8fa581d695"
   },
   "outputs": [
    {
     "data": {
      "application/vnd.google.colaboratory.intrinsic+json": {
       "type": "string"
      },
      "text/plain": [
       "'!\"#$%&\\'()*+,-./:;<=>?@[\\\\]^_`{|}~'"
      ]
     },
     "execution_count": 95,
     "metadata": {},
     "output_type": "execute_result"
    }
   ],
   "source": [
    "string.punctuation"
   ]
  },
  {
   "cell_type": "code",
   "execution_count": 95,
   "id": "YbMPBaoWXIaY",
   "metadata": {
    "id": "YbMPBaoWXIaY"
   },
   "outputs": [],
   "source": []
  },
  {
   "cell_type": "markdown",
   "id": "mbUdJpVBUvaE",
   "metadata": {
    "id": "mbUdJpVBUvaE"
   },
   "source": [
    "### Remove default stopwords"
   ]
  },
  {
   "cell_type": "code",
   "execution_count": 96,
   "id": "mt1AwwCJhP2I",
   "metadata": {
    "colab": {
     "base_uri": "https://localhost:8080/"
    },
    "id": "mt1AwwCJhP2I",
    "outputId": "84149357-6730-4b43-e34d-7f07cfb3ce1b"
   },
   "outputs": [
    {
     "name": "stderr",
     "output_type": "stream",
     "text": [
      "[nltk_data] Downloading package stopwords to /root/nltk_data...\n",
      "[nltk_data]   Package stopwords is already up-to-date!\n",
      "[nltk_data] Downloading package punkt to /root/nltk_data...\n",
      "[nltk_data]   Package punkt is already up-to-date!\n"
     ]
    },
    {
     "data": {
      "text/plain": [
       "True"
      ]
     },
     "execution_count": 96,
     "metadata": {},
     "output_type": "execute_result"
    }
   ],
   "source": [
    "# import nltk library\n",
    "from nltk.corpus import stopwords\n",
    "from nltk.tokenize import word_tokenize\n",
    "nltk.download('stopwords')\n",
    "nltk.download('punkt')\n"
   ]
  },
  {
   "cell_type": "code",
   "execution_count": 97,
   "id": "sd_Cw8K-VA7r",
   "metadata": {
    "id": "sd_Cw8K-VA7r"
   },
   "outputs": [],
   "source": [
    "# Remove stopwords function\n",
    "def rem_stopwords(text):\n",
    "  stop_words = set(stopwords.words('english'))\n",
    "  word_tokens = word_tokenize(text)\n",
    "  filtered_text = [word for word in word_tokens if word not in string.punctuation]\n",
    "  filtered_text = [word for word in filtered_text if word not in stop_words]\n",
    "  return filtered_text"
   ]
  },
  {
   "cell_type": "code",
   "execution_count": 98,
   "id": "tQGpkH3XWlZ1",
   "metadata": {
    "colab": {
     "base_uri": "https://localhost:8080/"
    },
    "id": "tQGpkH3XWlZ1",
    "outputId": "189144e5-8d58-4992-964b-075270421a5c"
   },
   "outputs": [
    {
     "data": {
      "text/plain": [
       "['Data', 'new', 'oil', 'A.I', 'last', 'invention']"
      ]
     },
     "execution_count": 98,
     "metadata": {},
     "output_type": "execute_result"
    }
   ],
   "source": [
    "ex_text = 'Data is the new oil. A.I is the last invention'\n",
    "rem_stopwords(ex_text)"
   ]
  },
  {
   "cell_type": "markdown",
   "id": "Tu09DqveX5or",
   "metadata": {
    "id": "Tu09DqveX5or"
   },
   "source": [
    "### Stemming"
   ]
  },
  {
   "cell_type": "code",
   "execution_count": 99,
   "id": "VXXbWhKVWQbQ",
   "metadata": {
    "id": "VXXbWhKVWQbQ"
   },
   "outputs": [],
   "source": [
    "# import nlkt porter stemmer\n",
    "from nltk.stem.porter import PorterStemmer\n",
    "from nltk.tokenize import word_tokenize\n",
    "stem1 = PorterStemmer()\n",
    "# Stem words in the list of tokenized words\n",
    "def stop_words(text):\n",
    "  word_tokens = word_tokenize(text)\n",
    "  stems = [stem1.stem(word) for word in word_tokens]\n",
    "  return stems"
   ]
  },
  {
   "cell_type": "code",
   "execution_count": 100,
   "id": "s_qdp1M9X3fo",
   "metadata": {
    "colab": {
     "base_uri": "https://localhost:8080/"
    },
    "id": "s_qdp1M9X3fo",
    "outputId": "33b42093-3dc9-4db8-e847-12c8729a3835"
   },
   "outputs": [
    {
     "data": {
      "text/plain": [
       "['data',\n",
       " 'is',\n",
       " 'the',\n",
       " 'new',\n",
       " 'revolut',\n",
       " 'in',\n",
       " 'the',\n",
       " 'world',\n",
       " ',',\n",
       " 'in',\n",
       " 'a',\n",
       " 'data',\n",
       " 'one',\n",
       " 'individu',\n",
       " 'would',\n",
       " 'gener',\n",
       " 'terabyt',\n",
       " 'of',\n",
       " 'data']"
      ]
     },
     "execution_count": 100,
     "metadata": {},
     "output_type": "execute_result"
    }
   ],
   "source": [
    "# Stem words in the list of tokenized words\n",
    "def stop_words(text):\n",
    "  word_tokens = word_tokenize(text)\n",
    "  stems = [stem1.stem(word) for word in word_tokens]\n",
    "  return stems\n",
    "text='Data is the new revolution in the world, in a data one individual would generate terabytes of data'\n",
    "stop_words(text)"
   ]
  },
  {
   "cell_type": "markdown",
   "id": "X99S2uRsZYbv",
   "metadata": {
    "id": "X99S2uRsZYbv"
   },
   "source": [
    "### Lemmatization"
   ]
  },
  {
   "cell_type": "code",
   "execution_count": 101,
   "id": "DLuHLiO1ZXIX",
   "metadata": {
    "colab": {
     "base_uri": "https://localhost:8080/"
    },
    "id": "DLuHLiO1ZXIX",
    "outputId": "dcfd01a2-4996-4379-fb68-a71fa06ad81b"
   },
   "outputs": [
    {
     "name": "stderr",
     "output_type": "stream",
     "text": [
      "[nltk_data] Downloading package wordnet to /root/nltk_data...\n",
      "[nltk_data]   Package wordnet is already up-to-date!\n"
     ]
    },
    {
     "data": {
      "text/plain": [
       "['Data',\n",
       " 'be',\n",
       " 'the',\n",
       " 'new',\n",
       " 'revolution',\n",
       " 'in',\n",
       " 'the',\n",
       " 'world',\n",
       " ',',\n",
       " 'in',\n",
       " 'a',\n",
       " 'data',\n",
       " 'one',\n",
       " 'individual',\n",
       " 'would',\n",
       " 'generate',\n",
       " 'terabytes',\n",
       " 'of',\n",
       " 'data']"
      ]
     },
     "execution_count": 101,
     "metadata": {},
     "output_type": "execute_result"
    }
   ],
   "source": [
    "from nltk.stem import wordnet\n",
    "from nltk.tokenize import word_tokenize\n",
    "lemma=wordnet.WordNetLemmatizer()\n",
    "nltk.download('wordnet')\n",
    "\n",
    "# Lemmatize the string\n",
    "def lemmatize_word(text):\n",
    "  word_tokens = word_tokenize(text)\n",
    "  # provide context like part-of-speech(pos)\n",
    "  lemmas=[lemma.lemmatize(word, pos='v') for word in word_tokens]\n",
    "  return lemmas\n",
    "text='Data is the new revolution in the world, in a data one individual would generate terabytes of data'\n",
    "lemmatize_word(text)\n",
    "#"
   ]
  },
  {
   "cell_type": "markdown",
   "id": "3zhLVzf5awRs",
   "metadata": {
    "id": "3zhLVzf5awRs"
   },
   "source": [
    "### Parts of Speech (POS) tagging"
   ]
  },
  {
   "cell_type": "code",
   "execution_count": 107,
   "id": "Gun8sXmKaxWa",
   "metadata": {
    "colab": {
     "base_uri": "https://localhost:8080/"
    },
    "id": "Gun8sXmKaxWa",
    "outputId": "51231a38-adaa-41de-e392-8f67edfe1db5"
   },
   "outputs": [
    {
     "name": "stderr",
     "output_type": "stream",
     "text": [
      "[nltk_data] Downloading package averaged_perceptron_tagger_eng to\n",
      "[nltk_data]     /root/nltk_data...\n",
      "[nltk_data]   Package averaged_perceptron_tagger_eng is already up-to-\n",
      "[nltk_data]       date!\n"
     ]
    },
    {
     "data": {
      "text/plain": [
       "[('Are', 'NNP'),\n",
       " ('you', 'PRP'),\n",
       " ('afraid', 'IN'),\n",
       " ('of', 'IN'),\n",
       " ('something', 'NN')]"
      ]
     },
     "execution_count": 107,
     "metadata": {},
     "output_type": "execute_result"
    }
   ],
   "source": [
    "# import tokenize library\n",
    "from nltk.tokenize import word_tokenize\n",
    "from nltk import pos_tag\n",
    "nltk.download('averaged_perceptron_tagger_eng')\n",
    "# convert text i nto word_tokens with their tags\n",
    "def pos_tagg(text):\n",
    "  word_tokens = word_tokenize(text)\n",
    "  return pos_tag(word_tokens)\n",
    "pos_tagg('Are you afraid of something')"
   ]
  },
  {
   "cell_type": "code",
   "execution_count": 108,
   "id": "gt9zL2iFpIfJ",
   "metadata": {
    "colab": {
     "base_uri": "https://localhost:8080/"
    },
    "id": "gt9zL2iFpIfJ",
    "outputId": "7e26e818-5406-430e-a51d-524229c2cf13"
   },
   "outputs": [
    {
     "name": "stdout",
     "output_type": "stream",
     "text": [
      "PRP: pronoun, personal\n",
      "    hers herself him himself hisself it itself me myself one oneself ours\n",
      "    ourselves ownself self she thee theirs them themselves they thou thy us\n"
     ]
    },
    {
     "name": "stderr",
     "output_type": "stream",
     "text": [
      "[nltk_data] Downloading package tagsets to /root/nltk_data...\n",
      "[nltk_data]   Package tagsets is already up-to-date!\n"
     ]
    }
   ],
   "source": [
    "# Downloading the tagset\n",
    "nltk.download('tagsets')\n",
    "# Extract information about the tag\n",
    "nltk.help.upenn_tagset('PRP')"
   ]
  },
  {
   "cell_type": "markdown",
   "id": "ra1hmhU9p0eH",
   "metadata": {
    "id": "ra1hmhU9p0eH"
   },
   "source": [
    "### Chunking"
   ]
  },
  {
   "cell_type": "code",
   "execution_count": 109,
   "id": "Mxnk25iOpUb4",
   "metadata": {
    "colab": {
     "base_uri": "https://localhost:8080/"
    },
    "id": "Mxnk25iOpUb4",
    "outputId": "19de99bd-6386-4d71-d2c7-cf8c6dc6e296"
   },
   "outputs": [
    {
     "name": "stdout",
     "output_type": "stream",
     "text": [
      "(S\n",
      "  (NP the/DT little/JJ red/JJ parrot/NN)\n",
      "  is/VBZ\n",
      "  flying/VBG\n",
      "  in/IN\n",
      "  (NP the/DT sky/NN))\n",
      "(NP the/DT little/JJ red/JJ parrot/NN)\n",
      "(NP the/DT sky/NN)\n"
     ]
    }
   ],
   "source": [
    "# Importing Libraries\n",
    "from nltk.tokenize import word_tokenize\n",
    "from nltk import pos_tag\n",
    "#here we define chunking function with text and regular\n",
    "#expressions representing grammar as parameter def chunking(text, grammar):\n",
    "def chunking(text, grammar):\n",
    "  word_tokens = word_tokenize(text)\n",
    "  # label words with pos\n",
    "  word_pos = pos_tag(word_tokens)\n",
    "  # create chunk parser using grammar\n",
    "  chunkParser = nltk.RegexpParser(grammar)\n",
    "  # test it on the list of word tokens with tagged pos\n",
    "  tree = chunkParser.parse(word_pos)\n",
    "  for subtree in tree.subtrees():\n",
    "    print(subtree)\n",
    "  #tree.draw()\n",
    "sentence = 'the little red parrot is flying in the sky'\n",
    "grammar = \"NP: {<DT>?<JJ>*<NN>}\"\n",
    "chunking(sentence, grammar)"
   ]
  },
  {
   "cell_type": "markdown",
   "id": "rZWm-9h7rM9X",
   "metadata": {
    "id": "rZWm-9h7rM9X"
   },
   "source": [
    "### Named Entity Recognition"
   ]
  },
  {
   "cell_type": "code",
   "execution_count": 113,
   "id": "WJelG66lpzk_",
   "metadata": {
    "colab": {
     "base_uri": "https://localhost:8080/"
    },
    "id": "WJelG66lpzk_",
    "outputId": "02b21ae6-23fe-41ea-c4d0-bd43825c3fa3"
   },
   "outputs": [
    {
     "name": "stderr",
     "output_type": "stream",
     "text": [
      "[nltk_data] Downloading package maxent_ne_chunker to\n",
      "[nltk_data]     /root/nltk_data...\n",
      "[nltk_data]   Package maxent_ne_chunker is already up-to-date!\n",
      "[nltk_data] Downloading package words to /root/nltk_data...\n",
      "[nltk_data]   Package words is already up-to-date!\n",
      "[nltk_data] Downloading package maxent_ne_chunker_tab to\n",
      "[nltk_data]     /root/nltk_data...\n",
      "[nltk_data]   Package maxent_ne_chunker_tab is already up-to-date!\n"
     ]
    },
    {
     "name": "stdout",
     "output_type": "stream",
     "text": [
      "(S\n",
      "  (PERSON Brain/NNP)\n",
      "  (PERSON Lara/NNP)\n",
      "  scored/VBD\n",
      "  the/DT\n",
      "  highest/JJS\n",
      "  400/CD\n",
      "  runs/NNS\n",
      "  in/IN\n",
      "  a/DT\n",
      "  test/NN\n",
      "  match/NN\n",
      "  which/WDT\n",
      "  played/VBD\n",
      "  in/IN\n",
      "  between/IN\n",
      "  (ORGANIZATION WI/NNP)\n",
      "  and/CC\n",
      "  (GPE England/NNP))\n"
     ]
    }
   ],
   "source": [
    "#Import tokenization and chunk\n",
    "from nltk.tokenize import word_tokenize\n",
    "from nltk import pos_tag, ne_chunk\n",
    "nltk.download('maxent_ne_chunker')\n",
    "nltk.download('words')\n",
    "nltk.download('maxent_ne_chunker_tab')\n",
    "\n",
    "def ner(text):\n",
    "  # tokenize the text\n",
    "  word_tokens = word_tokenize(text)\n",
    "  #pos tagging of words\n",
    "  word_pos = pos_tag(word_tokens)\n",
    "  #tree of word entities\n",
    "  tree = ne_chunk(word_pos)\n",
    "  #print the result\n",
    "  print(tree)\n",
    "\n",
    "text = 'Brain Lara scored the highest 400 runs in a test match which played in between WI and England'\n",
    "ner(text)"
   ]
  },
  {
   "cell_type": "markdown",
   "id": "NWCVoDHlsxZv",
   "metadata": {
    "id": "NWCVoDHlsxZv"
   },
   "source": [
    "### RegEx Syntax"
   ]
  },
  {
   "cell_type": "code",
   "execution_count": 114,
   "id": "y6x_7enKsnc3",
   "metadata": {
    "colab": {
     "base_uri": "https://localhost:8080/"
    },
    "id": "y6x_7enKsnc3",
    "outputId": "16592317-e4ee-4250-c472-f8f53f725bff"
   },
   "outputs": [
    {
     "name": "stdout",
     "output_type": "stream",
     "text": [
      "['Data']\n"
     ]
    }
   ],
   "source": [
    "import re\n",
    "sent = 'dataset, Data is a new fuel'\n",
    "r2 = re.findall(r'Data', sent)\n",
    "print(r2)"
   ]
  },
  {
   "cell_type": "code",
   "execution_count": 115,
   "id": "ukJPoAI5tJK_",
   "metadata": {
    "colab": {
     "base_uri": "https://localhost:8080/"
    },
    "id": "ukJPoAI5tJK_",
    "outputId": "c78f9315-4d86-4ec3-d63f-86db53455c0d"
   },
   "outputs": [
    {
     "name": "stdout",
     "output_type": "stream",
     "text": [
      "['We', 'plited', 'this', 'sentence']\n"
     ]
    }
   ],
   "source": [
    "import re\n",
    "print((re.split(r'\\s', 'We plited this sentence')))"
   ]
  },
  {
   "cell_type": "code",
   "execution_count": 117,
   "id": "F3ZE4yRatZ6u",
   "metadata": {
    "colab": {
     "base_uri": "https://localhost:8080/"
    },
    "id": "F3ZE4yRatZ6u",
    "outputId": "0c5f7d0e-c329-44b7-d080-d063706ce7f1"
   },
   "outputs": [
    {
     "name": "stdout",
     "output_type": "stream",
     "text": [
      "['We ', 'plited thi', ' ', 'entence']\n"
     ]
    }
   ],
   "source": [
    "import re\n",
    "print((re.split(r's', 'We splited this sentence')))"
   ]
  },
  {
   "cell_type": "code",
   "execution_count": 119,
   "id": "AddgDKLmt1CG",
   "metadata": {
    "colab": {
     "base_uri": "https://localhost:8080/"
    },
    "id": "AddgDKLmt1CG",
    "outputId": "20372420-ee48-44d3-bcf4-90f3139ebae8"
   },
   "outputs": [
    {
     "name": "stdout",
     "output_type": "stream",
     "text": [
      "icecream images\n"
     ]
    }
   ],
   "source": [
    "# Using re.match()\n",
    "\n",
    "import re\n",
    "list = ['icecream images', 'i immitated', 'inner peace']\n",
    "for i in list:\n",
    "  q = re.match(\"(i\\w+)\\W(i\\w+)\", i)\n",
    "  if q:\n",
    "    print((q.group()))\n"
   ]
  },
  {
   "cell_type": "markdown",
   "id": "8403mEEZviWn",
   "metadata": {
    "id": "8403mEEZviWn"
   },
   "source": [
    "###  Finding Pattern in the text(re.search())"
   ]
  },
  {
   "cell_type": "code",
   "execution_count": 123,
   "id": "lL4WFMBT0n8J",
   "metadata": {
    "colab": {
     "base_uri": "https://localhost:8080/"
    },
    "id": "lL4WFMBT0n8J",
    "outputId": "20a46402-ccfd-4584-baf9-fbc3f60ca939"
   },
   "outputs": [
    {
     "name": "stdout",
     "output_type": "stream",
     "text": [
      "You're looking for 'playing' in 'Raju is playing outside.' Found match!\n",
      "You're looking for 'dataset' in 'Raju is playing outside.' No match found!\n"
     ]
    }
   ],
   "source": [
    "import re\n",
    "pattern = ['playing', 'dataset']\n",
    "text = 'Raju is playing outside.'\n",
    "for p in pattern:\n",
    "  print(\"You're looking for '%s' in '%s'\" %(p, text), end = ' ')\n",
    "  if re.search(p, text):\n",
    "    print('Found match!')\n",
    "  else:\n",
    "    print('No match found!')"
   ]
  },
  {
   "cell_type": "markdown",
   "id": "-pAh2l5H0zAZ",
   "metadata": {
    "id": "-pAh2l5H0zAZ"
   },
   "source": [
    "### Using re.findall() for text"
   ]
  },
  {
   "cell_type": "code",
   "execution_count": 124,
   "id": "X5_uK7_k0w9A",
   "metadata": {
    "colab": {
     "base_uri": "https://localhost:8080/"
    },
    "id": "X5_uK7_k0w9A",
    "outputId": "6a68dcb9-9bc3-4142-8f85-f3ec03274f99"
   },
   "outputs": [
    {
     "name": "stdout",
     "output_type": "stream",
     "text": [
      "abc@gmail.com\n",
      "xyz@gmail.com\n",
      "lmn@gmail.com\n",
      "efg@gmail.com\n"
     ]
    }
   ],
   "source": [
    "import re\n",
    "mail='abc@gmail.com, xyz@gmail.com, lmn@gmail.com, efg@gmail.com'\n",
    "emails = re.findall(r'[\\w\\.]+@[\\w\\.]+', mail)\n",
    "for e in emails:\n",
    "  print(e)"
   ]
  },
  {
   "cell_type": "markdown",
   "id": "JRSD-yFU1yJg",
   "metadata": {
    "id": "JRSD-yFU1yJg"
   },
   "source": [
    "### Tokenizers\n",
    "#### NLTK"
   ]
  },
  {
   "cell_type": "code",
   "execution_count": 125,
   "id": "0DjDvwLJ1xWB",
   "metadata": {
    "colab": {
     "base_uri": "https://localhost:8080/"
    },
    "id": "0DjDvwLJ1xWB",
    "outputId": "9798d7de-4f9d-48b5-cac0-7cab66dc2ec3"
   },
   "outputs": [
    {
     "name": "stdout",
     "output_type": "stream",
     "text": [
      "Requirement already satisfied: nltk in /usr/local/lib/python3.11/dist-packages (3.9.1)\n",
      "Requirement already satisfied: click in /usr/local/lib/python3.11/dist-packages (from nltk) (8.2.1)\n",
      "Requirement already satisfied: joblib in /usr/local/lib/python3.11/dist-packages (from nltk) (1.5.1)\n",
      "Requirement already satisfied: regex>=2021.8.3 in /usr/local/lib/python3.11/dist-packages (from nltk) (2024.11.6)\n",
      "Requirement already satisfied: tqdm in /usr/local/lib/python3.11/dist-packages (from nltk) (4.67.1)\n"
     ]
    }
   ],
   "source": [
    "!pip install --user -U nltk"
   ]
  },
  {
   "cell_type": "code",
   "execution_count": 127,
   "id": "HiQvzCQ-4EiB",
   "metadata": {
    "id": "HiQvzCQ-4EiB"
   },
   "outputs": [],
   "source": [
    "from nltk.tokenize.regexp import WhitespaceTokenizer\n",
    "m = \"'There is no need to panic. We need to work together, take small yet important measure to ensure self-protect.'\""
   ]
  },
  {
   "cell_type": "code",
   "execution_count": 128,
   "id": "ApO87lLp4r7y",
   "metadata": {
    "colab": {
     "base_uri": "https://localhost:8080/"
    },
    "id": "ApO87lLp4r7y",
    "outputId": "16bec0c4-785a-4ef4-e932-a653ea18499c"
   },
   "outputs": [
    {
     "data": {
      "text/plain": [
       "['Founded',\n",
       " 'in',\n",
       " '2002',\n",
       " ',',\n",
       " 'SpaceX',\n",
       " \"'s\",\n",
       " 'mission',\n",
       " 'is',\n",
       " 'to',\n",
       " 'enable',\n",
       " 'humans',\n",
       " 'to',\n",
       " 'become',\n",
       " 'a',\n",
       " 'spacefaring',\n",
       " 'civilization',\n",
       " 'and',\n",
       " 'a',\n",
       " 'multi-planet',\n",
       " 'species',\n",
       " 'by',\n",
       " 'building',\n",
       " 'a',\n",
       " 'self-sustaining',\n",
       " 'city',\n",
       " 'on',\n",
       " 'Mars',\n",
       " '.',\n",
       " 'In',\n",
       " '2008',\n",
       " ',',\n",
       " 'SpaceX',\n",
       " \"'s\",\n",
       " 'Falcon',\n",
       " '1',\n",
       " 'became',\n",
       " 'the',\n",
       " 'first',\n",
       " 'privately',\n",
       " 'developed',\n",
       " 'liquid-fuel',\n",
       " 'launch',\n",
       " 'vehicle',\n",
       " 'to',\n",
       " 'orbit',\n",
       " 'the',\n",
       " 'Earth',\n",
       " '.']"
      ]
     },
     "execution_count": 128,
     "metadata": {},
     "output_type": "execute_result"
    }
   ],
   "source": [
    "from nltk.tokenize import word_tokenize\n",
    "text = \"\"\"Founded in 2002, SpaceX's mission is to enable humans to become a spacefaring civilization and a multi-planet species by building a self-sustaining city on Mars. In 2008, SpaceX's Falcon 1 became the first privately developed liquid-fuel launch vehicle to orbit the Earth.\"\"\"\n",
    "word_tokenize(text)"
   ]
  },
  {
   "cell_type": "code",
   "execution_count": 129,
   "id": "RiSZ20eL-Ayy",
   "metadata": {
    "colab": {
     "base_uri": "https://localhost:8080/"
    },
    "id": "RiSZ20eL-Ayy",
    "outputId": "8cd068aa-2444-4592-f17e-442f0bfc1145"
   },
   "outputs": [
    {
     "name": "stdout",
     "output_type": "stream",
     "text": [
      "19\n"
     ]
    }
   ],
   "source": [
    "tokens = WhitespaceTokenizer().tokenize(m)\n",
    "print(len(tokens))"
   ]
  },
  {
   "cell_type": "code",
   "execution_count": 130,
   "id": "fcbo9eE--OOp",
   "metadata": {
    "colab": {
     "base_uri": "https://localhost:8080/"
    },
    "id": "fcbo9eE--OOp",
    "outputId": "1356638a-c4f2-4925-dcec-f36a3d86cf67"
   },
   "outputs": [
    {
     "data": {
      "text/plain": [
       "[\"'There\",\n",
       " 'is',\n",
       " 'no',\n",
       " 'need',\n",
       " 'to',\n",
       " 'panic.',\n",
       " 'We',\n",
       " 'need',\n",
       " 'to',\n",
       " 'work',\n",
       " 'together,',\n",
       " 'take',\n",
       " 'small',\n",
       " 'yet',\n",
       " 'important',\n",
       " 'measure',\n",
       " 'to',\n",
       " 'ensure',\n",
       " \"self-protect.'\"]"
      ]
     },
     "execution_count": 130,
     "metadata": {},
     "output_type": "execute_result"
    }
   ],
   "source": [
    "tokens"
   ]
  },
  {
   "cell_type": "code",
   "execution_count": 131,
   "id": "eZqZiUei-SDA",
   "metadata": {
    "colab": {
     "base_uri": "https://localhost:8080/"
    },
    "id": "eZqZiUei-SDA",
    "outputId": "92878287-91e2-45df-f873-c26fbc0fba42"
   },
   "outputs": [
    {
     "name": "stdout",
     "output_type": "stream",
     "text": [
      "16\n"
     ]
    }
   ],
   "source": [
    "my_vocab = set(tokens)\n",
    "print(len(my_vocab))"
   ]
  },
  {
   "cell_type": "code",
   "execution_count": 132,
   "id": "MsEiqFgS-Y4B",
   "metadata": {
    "id": "MsEiqFgS-Y4B"
   },
   "outputs": [],
   "source": [
    "my_st = \"'There is no need to panic. We need to work together, take small yet important measure to ensure self-protect.'\""
   ]
  },
  {
   "cell_type": "code",
   "execution_count": 133,
   "id": "ZWOEHcI7-l4R",
   "metadata": {
    "id": "ZWOEHcI7-l4R"
   },
   "outputs": [],
   "source": [
    "from nltk.tokenize.regexp import WordPunctTokenizer"
   ]
  },
  {
   "cell_type": "code",
   "execution_count": 134,
   "id": "sS0n6fMB-taJ",
   "metadata": {
    "colab": {
     "base_uri": "https://localhost:8080/"
    },
    "id": "sS0n6fMB-taJ",
    "outputId": "aa94aa35-fd43-45ca-d257-5da079956ee7"
   },
   "outputs": [
    {
     "name": "stdout",
     "output_type": "stream",
     "text": [
      "25\n"
     ]
    }
   ],
   "source": [
    "m_t = WordPunctTokenizer().tokenize(my_st)\n",
    "print(len(m_t))"
   ]
  },
  {
   "cell_type": "code",
   "execution_count": 135,
   "id": "U1d5IejA-_bC",
   "metadata": {
    "colab": {
     "base_uri": "https://localhost:8080/"
    },
    "id": "U1d5IejA-_bC",
    "outputId": "caebf0ab-7b5e-443c-c6be-94e1394727dc"
   },
   "outputs": [
    {
     "data": {
      "text/plain": [
       "[\"'\",\n",
       " 'There',\n",
       " 'is',\n",
       " 'no',\n",
       " 'need',\n",
       " 'to',\n",
       " 'panic',\n",
       " '.',\n",
       " 'We',\n",
       " 'need',\n",
       " 'to',\n",
       " 'work',\n",
       " 'together',\n",
       " ',',\n",
       " 'take',\n",
       " 'small',\n",
       " 'yet',\n",
       " 'important',\n",
       " 'measure',\n",
       " 'to',\n",
       " 'ensure',\n",
       " 'self',\n",
       " '-',\n",
       " 'protect',\n",
       " \".'\"]"
      ]
     },
     "execution_count": 135,
     "metadata": {},
     "output_type": "execute_result"
    }
   ],
   "source": [
    "m_t"
   ]
  },
  {
   "cell_type": "code",
   "execution_count": 136,
   "id": "lR8Y37a4_EAD",
   "metadata": {
    "colab": {
     "base_uri": "https://localhost:8080/"
    },
    "id": "lR8Y37a4_EAD",
    "outputId": "cebe5f10-3094-4fe1-b81c-f89e94d11313"
   },
   "outputs": [
    {
     "name": "stdout",
     "output_type": "stream",
     "text": [
      "22\n"
     ]
    }
   ],
   "source": [
    "my_vocab = set(m_t)\n",
    "print(len(my_vocab))"
   ]
  },
  {
   "cell_type": "code",
   "execution_count": 137,
   "id": "lLSTf9Xu_WDj",
   "metadata": {
    "colab": {
     "base_uri": "https://localhost:8080/"
    },
    "id": "lLSTf9Xu_WDj",
    "outputId": "e2606356-e43c-46fc-9c1b-09f22898f37a"
   },
   "outputs": [
    {
     "data": {
      "text/plain": [
       "{\"'\",\n",
       " ',',\n",
       " '-',\n",
       " '.',\n",
       " \".'\",\n",
       " 'There',\n",
       " 'We',\n",
       " 'ensure',\n",
       " 'important',\n",
       " 'is',\n",
       " 'measure',\n",
       " 'need',\n",
       " 'no',\n",
       " 'panic',\n",
       " 'protect',\n",
       " 'self',\n",
       " 'small',\n",
       " 'take',\n",
       " 'to',\n",
       " 'together',\n",
       " 'work',\n",
       " 'yet'}"
      ]
     },
     "execution_count": 137,
     "metadata": {},
     "output_type": "execute_result"
    }
   ],
   "source": [
    "my_vocab"
   ]
  },
  {
   "cell_type": "code",
   "execution_count": 139,
   "id": "NRUkhmeYAgTb",
   "metadata": {
    "colab": {
     "base_uri": "https://localhost:8080/"
    },
    "id": "NRUkhmeYAgTb",
    "outputId": "85093aa3-f36a-4cc7-ad43-ff898135623c"
   },
   "outputs": [
    {
     "data": {
      "text/plain": [
       "[\"Founded in 2002, SpaceX's mission is to enable humans to become a spacefaring civilization and a multi-planet species by building a self-sustaining city on Mars.\",\n",
       " \"In 2008, SpaceX's Falcon 1 became the first privately developed liquid-fuel launch vehicle to orbit the Earth.\"]"
      ]
     },
     "execution_count": 139,
     "metadata": {},
     "output_type": "execute_result"
    }
   ],
   "source": [
    "from nltk.tokenize import sent_tokenize\n",
    "text = \"\"\"Founded in 2002, SpaceX's mission is to enable humans to become a spacefaring civilization and a multi-planet species by building a self-sustaining city on Mars. In 2008, SpaceX's Falcon 1 became the first privately developed liquid-fuel launch vehicle to orbit the Earth.\"\"\"\n",
    "sent_tokenize(text)"
   ]
  },
  {
   "cell_type": "markdown",
   "id": "mlwI0m54_y9r",
   "metadata": {
    "id": "mlwI0m54_y9r"
   },
   "source": [
    "### Frequency Distribution"
   ]
  },
  {
   "cell_type": "code",
   "execution_count": 141,
   "id": "_VuGNLlP_wqz",
   "metadata": {
    "colab": {
     "base_uri": "https://localhost:8080/"
    },
    "id": "_VuGNLlP_wqz",
    "outputId": "36ff4c93-66f6-4bce-a4d4-c33a4eeae8e2"
   },
   "outputs": [
    {
     "name": "stdout",
     "output_type": "stream",
     "text": [
      "<FreqDist with 19 samples and 23 outcomes>\n"
     ]
    }
   ],
   "source": [
    "# From nltk.book imort *\n",
    "import nltk\n",
    "#nltk.download('gutenberg')\n",
    "text1=\"'There is no need to panic. We need to work together, take small yet important measure to ensure self-protect.'\"\n",
    "freqDist = nltk.FreqDist(word_tokenize(text1))\n",
    "print(freqDist)"
   ]
  },
  {
   "cell_type": "code",
   "execution_count": 143,
   "id": "VuSMSSpV_wy7",
   "metadata": {
    "colab": {
     "base_uri": "https://localhost:8080/"
    },
    "id": "VuSMSSpV_wy7",
    "outputId": "36a4f38f-fc1c-4f42-edea-43c0bbd98bad"
   },
   "outputs": [
    {
     "name": "stdout",
     "output_type": "stream",
     "text": [
      "0\n"
     ]
    }
   ],
   "source": [
    "print(freqDist[\"person\"])"
   ]
  },
  {
   "cell_type": "code",
   "execution_count": 144,
   "id": "HXVfZxDb_w70",
   "metadata": {
    "colab": {
     "base_uri": "https://localhost:8080/"
    },
    "id": "HXVfZxDb_w70",
    "outputId": "312e42cb-92c9-4195-b33f-e8170803eea3"
   },
   "outputs": [
    {
     "name": "stdout",
     "output_type": "stream",
     "text": [
      "1\n"
     ]
    }
   ],
   "source": [
    "print(freqDist[\"is\"])"
   ]
  },
  {
   "cell_type": "code",
   "execution_count": 145,
   "id": "qzpC3kAJ_xDD",
   "metadata": {
    "colab": {
     "base_uri": "https://localhost:8080/"
    },
    "id": "qzpC3kAJ_xDD",
    "outputId": "e0d90ce2-2b99-44de-cdbd-e07e02f5e69c"
   },
   "outputs": [
    {
     "name": "stdout",
     "output_type": "stream",
     "text": [
      "<class 'dict_keys'>\n"
     ]
    }
   ],
   "source": [
    "words = freqDist.keys()\n",
    "print(type(words))"
   ]
  },
  {
   "cell_type": "code",
   "execution_count": 146,
   "id": "BaF13APH_ZGL",
   "metadata": {
    "colab": {
     "base_uri": "https://localhost:8080/"
    },
    "id": "BaF13APH_ZGL",
    "outputId": "72f1ff65-6da0-48a2-d8fe-506089fca987"
   },
   "outputs": [
    {
     "name": "stdout",
     "output_type": "stream",
     "text": [
      "19\n"
     ]
    }
   ],
   "source": [
    "print(len(words))"
   ]
  },
  {
   "cell_type": "code",
   "execution_count": 149,
   "id": "cc8XSfYlBXxi",
   "metadata": {
    "colab": {
     "base_uri": "https://localhost:8080/",
     "height": 522
    },
    "id": "cc8XSfYlBXxi",
    "outputId": "783d093e-3723-4fc4-e38d-bcd07c552fe5"
   },
   "outputs": [
    {
     "data": {
      "text/plain": [
       "<Axes: xlabel='Samples', ylabel='Counts'>"
      ]
     },
     "execution_count": 149,
     "metadata": {},
     "output_type": "execute_result"
    },
    {
     "data": {
      "image/png": "[encoded data removed]",
      "text/plain": [
       "<Figure size 640x480 with 1 Axes>"
      ]
     },
     "metadata": {},
     "output_type": "display_data"
    }
   ],
   "source": [
    "freqDist.plot(17)"
   ]
  }
 ],
 "metadata": {
  "colab": {
   "provenance": []
  },
  "kernelspec": {
   "display_name": "Python [conda env:base] *",
   "language": "python",
   "name": "conda-base-py"
  },
  "language_info": {
   "codemirror_mode": {
    "name": "ipython",
    "version": 3
   },
   "file_extension": ".py",
   "mimetype": "text/x-python",
   "name": "python",
   "nbconvert_exporter": "python",
   "pygments_lexer": "ipython3",
   "version": "3.12.7"
  }
 },
 "nbformat": 4,
 "nbformat_minor": 5
}
