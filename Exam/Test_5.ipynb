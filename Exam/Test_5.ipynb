{
 "cells": [
  {
   "cell_type": "code",
   "execution_count": 46,
   "id": "1af77b7e-2ff2-4176-b923-9704d9672270",
   "metadata": {},
   "outputs": [],
   "source": [
    "# 1. Problem – Defective Items in a Factory\n",
    "from numpy.random import randint as ri\n",
    "import pandas as pd\n",
    "\n",
    "#Generate random data for 1000 days (defective items between 0 and 20)\n",
    "defects = ri(0, 21, 1000)\n",
    "defects = pd.Series(defects)"
   ]
  },
  {
   "cell_type": "code",
   "execution_count": 47,
   "id": "8b8e00cc-77f1-4d8a-848c-53523ea16f61",
   "metadata": {},
   "outputs": [
    {
     "data": {
      "text/plain": [
       "0    12\n",
       "1    19\n",
       "2     0\n",
       "3     7\n",
       "4    13\n",
       "dtype: int32"
      ]
     },
     "execution_count": 47,
     "metadata": {},
     "output_type": "execute_result"
    }
   ],
   "source": [
    "defects.head()"
   ]
  },
  {
   "cell_type": "code",
   "execution_count": 48,
   "id": "a59e6007-ec17-492c-b596-decb3177c971",
   "metadata": {},
   "outputs": [
    {
     "data": {
      "text/plain": [
       "9.899"
      ]
     },
     "execution_count": 48,
     "metadata": {},
     "output_type": "execute_result"
    }
   ],
   "source": [
    "defects_mean = defects.mean()\n",
    "defects_mean"
   ]
  },
  {
   "cell_type": "code",
   "execution_count": 49,
   "id": "6c7fcf9a-217d-4328-b732-96f0c95502e5",
   "metadata": {},
   "outputs": [
    {
     "data": {
      "text/plain": [
       "6.159767994148945"
      ]
     },
     "execution_count": 49,
     "metadata": {},
     "output_type": "execute_result"
    }
   ],
   "source": [
    "defects_std = defects.std()\n",
    "defects_std"
   ]
  },
  {
   "cell_type": "code",
   "execution_count": 50,
   "id": "70b0fa59-549d-47f9-bdda-a696a7687a11",
   "metadata": {},
   "outputs": [
    {
     "data": {
      "text/plain": [
       "0.21321306250917843"
      ]
     },
     "execution_count": 50,
     "metadata": {},
     "output_type": "execute_result"
    }
   ],
   "source": [
    "import scipy.stats as st\n",
    "exact_defect = 5\n",
    "probability = st.norm.cdf(exact_defect, loc=defects_mean, scale=defects_std)\n",
    "probability"
   ]
  },
  {
   "cell_type": "code",
   "execution_count": 51,
   "id": "57fd4e0f-7c19-4341-bc16-ab3bb5148a17",
   "metadata": {},
   "outputs": [
    {
     "data": {
      "text/plain": [
       "1.8973665961010264"
      ]
     },
     "execution_count": 51,
     "metadata": {},
     "output_type": "execute_result"
    }
   ],
   "source": [
    "# 2 Problem – Testing the Claim About Delivery Time\n",
    "import numpy as np\n",
    "\n",
    "# Known values\n",
    "population_mean = 30        # Claimed average delivery time\n",
    "sample_mean = 31.2          # Observed sample mean\n",
    "std_dev = 4                 # Known population standard deviation\n",
    "n = 40                      # Sample size\n",
    "\n",
    "z=(sample_mean-population_mean)/(std_dev/np.sqrt(40))\n",
    "z"
   ]
  },
  {
   "cell_type": "code",
   "execution_count": 52,
   "id": "bee18c65-ddaa-4826-8f90-121da757c08b",
   "metadata": {},
   "outputs": [],
   "source": [
    "# From z table we got the value 0.9678 which is greater than 0.05 so we accept the null hypothesis"
   ]
  },
  {
   "cell_type": "code",
   "execution_count": 76,
   "id": "91af9113-06c2-4feb-8847-0fd7be33c56a",
   "metadata": {},
   "outputs": [
    {
     "data": {
      "text/plain": [
       "0.9711102144382013"
      ]
     },
     "execution_count": 76,
     "metadata": {},
     "output_type": "execute_result"
    }
   ],
   "source": [
    "import scipy.stats as st\n",
    "pvalues=st.norm.cdf(sample_mean, loc=population_mean, scale=std_dev/np.sqrt(40))\n",
    "pvalues"
   ]
  },
  {
   "cell_type": "code",
   "execution_count": 74,
   "id": "b713318d-ce29-45ae-829c-b71d8f88775e",
   "metadata": {},
   "outputs": [
    {
     "data": {
      "text/html": [
       "<div>\n",
       "<style scoped>\n",
       "    .dataframe tbody tr th:only-of-type {\n",
       "        vertical-align: middle;\n",
       "    }\n",
       "\n",
       "    .dataframe tbody tr th {\n",
       "        vertical-align: top;\n",
       "    }\n",
       "\n",
       "    .dataframe thead th {\n",
       "        text-align: right;\n",
       "    }\n",
       "</style>\n",
       "<table border=\"1\" class=\"dataframe\">\n",
       "  <thead>\n",
       "    <tr style=\"text-align: right;\">\n",
       "      <th></th>\n",
       "      <th>Gender</th>\n",
       "      <th>Initial_Score</th>\n",
       "      <th>Final_Score</th>\n",
       "    </tr>\n",
       "  </thead>\n",
       "  <tbody>\n",
       "    <tr>\n",
       "      <th>0</th>\n",
       "      <td>0</td>\n",
       "      <td>73.167718</td>\n",
       "      <td>76.049901</td>\n",
       "    </tr>\n",
       "    <tr>\n",
       "      <th>1</th>\n",
       "      <td>0</td>\n",
       "      <td>67.883235</td>\n",
       "      <td>75.156484</td>\n",
       "    </tr>\n",
       "    <tr>\n",
       "      <th>2</th>\n",
       "      <td>1</td>\n",
       "      <td>59.935980</td>\n",
       "      <td>65.727168</td>\n",
       "    </tr>\n",
       "    <tr>\n",
       "      <th>3</th>\n",
       "      <td>1</td>\n",
       "      <td>62.409887</td>\n",
       "      <td>68.352951</td>\n",
       "    </tr>\n",
       "    <tr>\n",
       "      <th>4</th>\n",
       "      <td>1</td>\n",
       "      <td>68.476639</td>\n",
       "      <td>70.330144</td>\n",
       "    </tr>\n",
       "  </tbody>\n",
       "</table>\n",
       "</div>"
      ],
      "text/plain": [
       "   Gender  Initial_Score  Final_Score\n",
       "0       0      73.167718    76.049901\n",
       "1       0      67.883235    75.156484\n",
       "2       1      59.935980    65.727168\n",
       "3       1      62.409887    68.352951\n",
       "4       1      68.476639    70.330144"
      ]
     },
     "execution_count": 74,
     "metadata": {},
     "output_type": "execute_result"
    }
   ],
   "source": [
    "#3. Problem – Fitness Program Impact Analysis\n",
    "import numpy as np\n",
    "import pandas as pd\n",
    "\n",
    "# Set random seed for reproducibility\n",
    "np.random.seed(100)\n",
    "\n",
    "# Sample size\n",
    "n = 150\n",
    "\n",
    "# Gender (0 = Female, 1 = Male)\n",
    "gender = np.random.choice([0, 1], size=n)\n",
    "\n",
    "# Initial scores (mean slightly < 65 to create realistic test)\n",
    "initial_scores = np.random.normal(loc=64, scale=6, size=n)\n",
    "\n",
    "# Final scores (showing average improvement)\n",
    "final_scores = initial_scores + np.random.normal(loc=5, scale=3, size=n)\n",
    "\n",
    "# Create DataFrame\n",
    "df = pd.DataFrame({\n",
    "    'Gender': gender,\n",
    "    'Initial_Score': initial_scores,\n",
    "    'Final_Score': final_scores\n",
    "})\n",
    "\n",
    "df.head()\n"
   ]
  },
  {
   "cell_type": "code",
   "execution_count": 80,
   "id": "3eaf2a48-fde6-4000-b431-781289180ffe",
   "metadata": {},
   "outputs": [
    {
     "data": {
      "text/plain": [
       "TtestResult(statistic=-2.298969249023647, pvalue=0.02289660650128741, df=149)"
      ]
     },
     "execution_count": 80,
     "metadata": {},
     "output_type": "execute_result"
    }
   ],
   "source": [
    "### 1. One-Sample T-Test\n",
    "#Test whether the **average initial fitness score** is at least **65**.\n",
    "#**Null Hypothesis** H₀: μ ≥ 65 (Average initial score is at least 65)\n",
    "#**Alternate Hypothesis** H₁: μ < 65 (Average initial score is less than 65)\n",
    "\n",
    "from scipy.stats import ttest_1samp\n",
    "alpha=0.05\n",
    "mu=65\n",
    "st.ttest_1samp(df.Initial_Score, mu)"
   ]
  },
  {
   "cell_type": "code",
   "execution_count": 82,
   "id": "3dcfad41-54f6-41f9-b661-ac9b2c787bbe",
   "metadata": {},
   "outputs": [],
   "source": [
    "# pvalue=0.02289660650128741, Alternate Hypothesis*H₁: μ < 65 (Average initial score is less than 65)"
   ]
  },
  {
   "cell_type": "code",
   "execution_count": 84,
   "id": "a5c14a51-ebbe-43f8-8627-bfb99b94f33b",
   "metadata": {},
   "outputs": [],
   "source": [
    "### 2. Two-Sample Independent T-Test\n",
    "#**Null Hypothesis** H₀: μ₁ = μ₂ (No difference in average initial scores between males and females)\n",
    "#**Alternate Hypothesis** H₁: μ₁ ≠ μ₂ (There is a difference in average initial scores)\n",
    "\n",
    "from scipy.stats import ttest_ind  # For independent t-test\n",
    "from scipy.stats import ttest_rel  # For paired sample t-test (used later)"
   ]
  },
  {
   "cell_type": "code",
   "execution_count": 88,
   "id": "26949c2b-798e-478f-ac4c-27db22b51d40",
   "metadata": {},
   "outputs": [],
   "source": [
    "t,p=st.ttest_ind(df[df['Gender']==1].Initial_Score,df[df['Gender']==0].Initial_Score)"
   ]
  },
  {
   "cell_type": "code",
   "execution_count": 90,
   "id": "8eed63be-fba1-402d-8537-b469d85c36fd",
   "metadata": {},
   "outputs": [
    {
     "data": {
      "text/plain": [
       "-0.44707225764576697"
      ]
     },
     "execution_count": 90,
     "metadata": {},
     "output_type": "execute_result"
    }
   ],
   "source": [
    "t"
   ]
  },
  {
   "cell_type": "code",
   "execution_count": 92,
   "id": "9ac55168-b4e9-4059-891d-933738937eaa",
   "metadata": {},
   "outputs": [
    {
     "data": {
      "text/plain": [
       "0.6554764604792216"
      ]
     },
     "execution_count": 92,
     "metadata": {},
     "output_type": "execute_result"
    }
   ],
   "source": [
    "p"
   ]
  },
  {
   "cell_type": "code",
   "execution_count": 122,
   "id": "4c3147d9-ca00-4a80-bf22-f16e5e36f22e",
   "metadata": {},
   "outputs": [],
   "source": [
    "#3️Paired Sample t-Test:\n",
    "#**Null Hypothesis** H₀: μ_diff = 0 (No change in scores before and after the program)\n",
    "#**Alternate Hypothesis** H₁: μ_diff < 0 (Final scores are higher than initial scores)\n",
    "t,p=st.ttest_rel(df.Initial_Score,df.Initial_Score)"
   ]
  },
  {
   "cell_type": "code",
   "execution_count": 124,
   "id": "6cafdd1c-76f1-4794-a10b-39bd4750c3dc",
   "metadata": {},
   "outputs": [
    {
     "data": {
      "text/plain": [
       "nan"
      ]
     },
     "execution_count": 124,
     "metadata": {},
     "output_type": "execute_result"
    }
   ],
   "source": [
    "t"
   ]
  },
  {
   "cell_type": "code",
   "execution_count": 126,
   "id": "1ae56a3c-3b8f-4184-8515-88416998f9f6",
   "metadata": {},
   "outputs": [
    {
     "data": {
      "text/plain": [
       "nan"
      ]
     },
     "execution_count": 126,
     "metadata": {},
     "output_type": "execute_result"
    }
   ],
   "source": [
    "p"
   ]
  },
  {
   "cell_type": "code",
   "execution_count": 128,
   "id": "043d68cc-467b-4108-8694-561fa72f8109",
   "metadata": {},
   "outputs": [
    {
     "data": {
      "text/html": [
       "<div>\n",
       "<style scoped>\n",
       "    .dataframe tbody tr th:only-of-type {\n",
       "        vertical-align: middle;\n",
       "    }\n",
       "\n",
       "    .dataframe tbody tr th {\n",
       "        vertical-align: top;\n",
       "    }\n",
       "\n",
       "    .dataframe thead th {\n",
       "        text-align: right;\n",
       "    }\n",
       "</style>\n",
       "<table border=\"1\" class=\"dataframe\">\n",
       "  <thead>\n",
       "    <tr style=\"text-align: right;\">\n",
       "      <th></th>\n",
       "      <th>Customer_ID</th>\n",
       "      <th>Branch</th>\n",
       "      <th>Satisfaction_Score</th>\n",
       "    </tr>\n",
       "  </thead>\n",
       "  <tbody>\n",
       "    <tr>\n",
       "      <th>0</th>\n",
       "      <td>1</td>\n",
       "      <td>A</td>\n",
       "      <td>434.901425</td>\n",
       "    </tr>\n",
       "    <tr>\n",
       "      <th>1</th>\n",
       "      <td>2</td>\n",
       "      <td>A</td>\n",
       "      <td>415.852071</td>\n",
       "    </tr>\n",
       "    <tr>\n",
       "      <th>2</th>\n",
       "      <td>3</td>\n",
       "      <td>A</td>\n",
       "      <td>439.430656</td>\n",
       "    </tr>\n",
       "    <tr>\n",
       "      <th>3</th>\n",
       "      <td>4</td>\n",
       "      <td>A</td>\n",
       "      <td>465.690896</td>\n",
       "    </tr>\n",
       "    <tr>\n",
       "      <th>4</th>\n",
       "      <td>5</td>\n",
       "      <td>A</td>\n",
       "      <td>412.975399</td>\n",
       "    </tr>\n",
       "  </tbody>\n",
       "</table>\n",
       "</div>"
      ],
      "text/plain": [
       "   Customer_ID Branch  Satisfaction_Score\n",
       "0            1      A          434.901425\n",
       "1            2      A          415.852071\n",
       "2            3      A          439.430656\n",
       "3            4      A          465.690896\n",
       "4            5      A          412.975399"
      ]
     },
     "execution_count": 128,
     "metadata": {},
     "output_type": "execute_result"
    }
   ],
   "source": [
    "#4 Problem – ANOVA Analysis of Customer Satisfaction Across Store Branches\n",
    "import numpy as np\n",
    "import pandas as pd\n",
    "\n",
    "# Set seed for reproducibility\n",
    "np.random.seed(42)\n",
    "\n",
    "# Sample size per branch\n",
    "n = 70\n",
    "\n",
    "# Create satisfaction scores for three branches\n",
    "branch_a = np.random.normal(loc=420, scale=30, size=n)\n",
    "branch_b = np.random.normal(loc=400, scale=35, size=n)\n",
    "branch_c = np.random.normal(loc=430, scale=25, size=n)\n",
    "\n",
    "# Combine into a DataFrame\n",
    "data = pd.DataFrame({\n",
    "    'Customer_ID': range(1, n*3 + 1),\n",
    "    'Branch': ['A'] * n + ['B'] * n + ['C'] * n,\n",
    "    'Satisfaction_Score': np.concatenate([branch_a, branch_b, branch_c])\n",
    "})\n",
    "\n",
    "data.head()"
   ]
  },
  {
   "cell_type": "code",
   "execution_count": 130,
   "id": "e5c01553-e04c-47c4-bdd6-c4ac0784b472",
   "metadata": {},
   "outputs": [],
   "source": [
    "#- **H₀ (Null Hypothesis)**: The average satisfaction scores across all three branches are **equal**.\n",
    "#- **H₁ (Alternative Hypothesis)**: At least one branch has a **different average** satisfaction score."
   ]
  },
  {
   "cell_type": "code",
   "execution_count": 132,
   "id": "6632e7d6-0145-43e3-be53-ed81ec0da450",
   "metadata": {},
   "outputs": [],
   "source": [
    "import numpy as np\n",
    "import statsmodels.formula.api as sm"
   ]
  },
  {
   "cell_type": "code",
   "execution_count": 134,
   "id": "cff6580d-20bf-4ca9-9470-b384a3ef6aad",
   "metadata": {},
   "outputs": [],
   "source": [
    "mod=sm.ols('Satisfaction_Score ~ Branch',data=data).fit()"
   ]
  },
  {
   "cell_type": "code",
   "execution_count": 136,
   "id": "dfad51a5-9457-42c6-9f3a-831a439c966a",
   "metadata": {},
   "outputs": [],
   "source": [
    "import statsmodels.api as k"
   ]
  },
  {
   "cell_type": "code",
   "execution_count": 138,
   "id": "dfee1767-72d5-4d30-8db3-07bad3ba2d9f",
   "metadata": {},
   "outputs": [
    {
     "data": {
      "text/html": [
       "<div>\n",
       "<style scoped>\n",
       "    .dataframe tbody tr th:only-of-type {\n",
       "        vertical-align: middle;\n",
       "    }\n",
       "\n",
       "    .dataframe tbody tr th {\n",
       "        vertical-align: top;\n",
       "    }\n",
       "\n",
       "    .dataframe thead th {\n",
       "        text-align: right;\n",
       "    }\n",
       "</style>\n",
       "<table border=\"1\" class=\"dataframe\">\n",
       "  <thead>\n",
       "    <tr style=\"text-align: right;\">\n",
       "      <th></th>\n",
       "      <th>df</th>\n",
       "      <th>sum_sq</th>\n",
       "      <th>mean_sq</th>\n",
       "      <th>F</th>\n",
       "      <th>PR(&gt;F)</th>\n",
       "    </tr>\n",
       "  </thead>\n",
       "  <tbody>\n",
       "    <tr>\n",
       "      <th>Branch</th>\n",
       "      <td>2.0</td>\n",
       "      <td>42018.567984</td>\n",
       "      <td>21009.283992</td>\n",
       "      <td>24.799904</td>\n",
       "      <td>2.212591e-10</td>\n",
       "    </tr>\n",
       "    <tr>\n",
       "      <th>Residual</th>\n",
       "      <td>207.0</td>\n",
       "      <td>175360.431682</td>\n",
       "      <td>847.151844</td>\n",
       "      <td>NaN</td>\n",
       "      <td>NaN</td>\n",
       "    </tr>\n",
       "  </tbody>\n",
       "</table>\n",
       "</div>"
      ],
      "text/plain": [
       "             df         sum_sq       mean_sq          F        PR(>F)\n",
       "Branch      2.0   42018.567984  21009.283992  24.799904  2.212591e-10\n",
       "Residual  207.0  175360.431682    847.151844        NaN           NaN"
      ]
     },
     "execution_count": 138,
     "metadata": {},
     "output_type": "execute_result"
    }
   ],
   "source": [
    "anov_table=k.stats.anova_lm(mod,typ=1)\n",
    "anov_table"
   ]
  },
  {
   "cell_type": "code",
   "execution_count": null,
   "id": "9fbbabed-19c8-4d62-9363-2eeecbcb7f73",
   "metadata": {},
   "outputs": [],
   "source": []
  },
  {
   "cell_type": "code",
   "execution_count": 143,
   "id": "2d1f3e75-33d4-4562-9c44-039a1454cf0c",
   "metadata": {},
   "outputs": [],
   "source": [
    "## 5 Problem – Evaluate Forecast Accuracy Using the Chi-Square Goodness of Fit Test\n",
    "import numpy as np\n",
    "from scipy.stats import chi2\n",
    "\n",
    "# Data\n",
    "expected = np.array([95, 110, 100, 130, 160, 210, 230])\n",
    "observed = np.array([90, 105, 98, 135, 165, 205, 225])"
   ]
  },
  {
   "cell_type": "code",
   "execution_count": 147,
   "id": "5853e172-93d0-447a-af3c-8840c68f5150",
   "metadata": {},
   "outputs": [
    {
     "data": {
      "text/plain": [
       "1.1067315855387938"
      ]
     },
     "execution_count": 147,
     "metadata": {},
     "output_type": "execute_result"
    }
   ],
   "source": [
    "#1. **Perform the Chi-Square Goodness of Fit Test** using the given data.\n",
    "chi_statistic = 0\n",
    "for i, obs in enumerate(observed):\n",
    "    exp = expected[i]\n",
    "    chi_statistic += ((obs - exp) ** 2) / exp\n",
    "chi_statistic"
   ]
  },
  {
   "cell_type": "code",
   "execution_count": 151,
   "id": "dac0eed0-1329-4f53-b5c1-cc03b86a7362",
   "metadata": {},
   "outputs": [
    {
     "name": "stdout",
     "output_type": "stream",
     "text": [
      "Degrees of Freedom:  6\n"
     ]
    }
   ],
   "source": [
    "## Step 2: Degrees of freedom = number of categories - 1\n",
    "DF=len(observed)-1\n",
    "print('Degrees of Freedom: ', DF)"
   ]
  },
  {
   "cell_type": "code",
   "execution_count": 153,
   "id": "48e745e9-0266-4ad9-9670-25fe2b194ef0",
   "metadata": {},
   "outputs": [],
   "source": [
    "## Step 3: Critical value at α = 0.10\n",
    "# From Chi-Square Distribution table critical score = 10.645"
   ]
  },
  {
   "cell_type": "code",
   "execution_count": 155,
   "id": "289a80b0-301c-4f17-b6b5-5144206d363d",
   "metadata": {},
   "outputs": [],
   "source": [
    "## Step 4: Compare and conclude\n",
    "#Critical Score (in the table 10.645 )is greater than test score 1.1067315855387938 , \n",
    "#we cannot reject the null hypothesis "
   ]
  },
  {
   "cell_type": "code",
   "execution_count": 163,
   "id": "7734e635-a2eb-4ecd-8108-a7372af09a92",
   "metadata": {},
   "outputs": [
    {
     "data": {
      "text/plain": [
       "6.0"
      ]
     },
     "execution_count": 163,
     "metadata": {},
     "output_type": "execute_result"
    }
   ],
   "source": [
    "### Problem – Manual Covariance Calculation Between Study Hours and Exam Scores\n",
    "##  Objective\n",
    "#Manually compute the **covariance** between `Hours_Studied` and `Exam_Score` **without using built-in functions** like `.cov()` or NumPy methods.\n",
    "\n",
    "# Dataset\n",
    "hours = [2, 4, 6, 8, 10]\n",
    "scores = [65, 70, 75, 85, 95]\n",
    "mean_hours = sum(hours) / len(hours)\n",
    "mean_hours"
   ]
  },
  {
   "cell_type": "code",
   "execution_count": 165,
   "id": "29ad8859-70c3-44bf-a7f2-6cd85067ee70",
   "metadata": {},
   "outputs": [
    {
     "data": {
      "text/plain": [
       "78.0"
      ]
     },
     "execution_count": 165,
     "metadata": {},
     "output_type": "execute_result"
    }
   ],
   "source": [
    "mean_scores = sum(scores) / len(scores)\n",
    "mean_scores"
   ]
  },
  {
   "cell_type": "code",
   "execution_count": 167,
   "id": "ec6cd5bb-96fd-4535-a6d6-f64ea271b4ed",
   "metadata": {},
   "outputs": [],
   "source": [
    "n=len(hours)"
   ]
  },
  {
   "cell_type": "code",
   "execution_count": 173,
   "id": "a9e371b8-cf9f-4b35-bb7c-50e0d1fefcfc",
   "metadata": {},
   "outputs": [
    {
     "name": "stdout",
     "output_type": "stream",
     "text": [
      "Covariance:  37.5\n"
     ]
    }
   ],
   "source": [
    "h_s= [(2-mean_hours)*(65-mean_scores), \n",
    " (4-mean_hours)*(70-mean_scores),\n",
    " (6-mean_hours)*(75-mean_scores),\n",
    " (8-mean_hours)*(85-mean_scores),\n",
    " (10-mean_hours)*(95-mean_scores)]\n",
    "sum_h_s=np.sum(h_s)\n",
    "print(\"Covariance: \",(sum_h_s/(n-1)))"
   ]
  },
  {
   "cell_type": "code",
   "execution_count": 175,
   "id": "cb788f58-25ee-4635-b822-60de58295746",
   "metadata": {},
   "outputs": [],
   "source": [
    "###  Problem – Manual Correlation Calculation Between Exercise Hours and Stress Level\n",
    "###  Objective: Manually compute the **Pearson correlation coefficient** between `Exercise_Hours` and `Stress_Level` without using built-in correlation functions.\n",
    "\n",
    "# Data\n",
    "exercise = [1, 3, 5, 7, 9]\n",
    "stress = [85, 75, 60, 55, 40]"
   ]
  },
  {
   "cell_type": "code",
   "execution_count": 177,
   "id": "45dc8132-e4cb-4eff-bcb3-a269c17f5b55",
   "metadata": {},
   "outputs": [],
   "source": [
    "mean_exercise = sum(exercise) / len(exercise)\n",
    "mean_stress = sum(stress) / len(stress)\n",
    "n = len(exercise)"
   ]
  },
  {
   "cell_type": "code",
   "execution_count": 179,
   "id": "016ba834-9677-4959-9a60-fd3e6cfd486b",
   "metadata": {},
   "outputs": [
    {
     "data": {
      "text/plain": [
       "-55.0"
      ]
     },
     "execution_count": 179,
     "metadata": {},
     "output_type": "execute_result"
    }
   ],
   "source": [
    "covariance = sum((exercise[i] - mean_exercise) * (stress[i] - mean_stress)for i in range(n)) / (n - 1)\n",
    "covariance"
   ]
  },
  {
   "cell_type": "code",
   "execution_count": 181,
   "id": "4b0a6096-aafb-4f8d-9a73-6ef322eebc62",
   "metadata": {},
   "outputs": [
    {
     "name": "stdout",
     "output_type": "stream",
     "text": [
      "Correlation:  -0.9918365981341756\n"
     ]
    }
   ],
   "source": [
    "std_exercise = (sum((x - mean_exercise) ** 2 for x in exercise) / (n - 1)) ** 0.5\n",
    "std_stress = (sum((y - mean_stress) ** 2 for y in stress) / (n - 1)) ** 0.5\n",
    "correlation = covariance / (std_exercise * std_stress)\n",
    "print(\"Correlation: \",correlation)"
   ]
  },
  {
   "cell_type": "code",
   "execution_count": null,
   "id": "dfc8034e-7662-4d71-a563-124c357dcfd0",
   "metadata": {},
   "outputs": [],
   "source": []
  }
 ],
 "metadata": {
  "kernelspec": {
   "display_name": "Python [conda env:base] *",
   "language": "python",
   "name": "conda-base-py"
  },
  "language_info": {
   "codemirror_mode": {
    "name": "ipython",
    "version": 3
   },
   "file_extension": ".py",
   "mimetype": "text/x-python",
   "name": "python",
   "nbconvert_exporter": "python",
   "pygments_lexer": "ipython3",
   "version": "3.12.7"
  }
 },
 "nbformat": 4,
 "nbformat_minor": 5
}
