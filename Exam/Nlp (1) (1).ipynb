{
 "cells": [
  {
   "cell_type": "markdown",
   "id": "17f3cd3d-ea85-43fa-9c28-8c28548ba9bc",
   "metadata": {
    "id": "17f3cd3d-ea85-43fa-9c28-8c28548ba9bc"
   },
   "source": [
    "### Python String"
   ]
  },
  {
   "cell_type": "code",
   "execution_count": 1,
   "id": "84887300-6985-4fff-8f01-93ab730e8f2c",
   "metadata": {
    "colab": {
     "base_uri": "https://localhost:8080/"
    },
    "id": "84887300-6985-4fff-8f01-93ab730e8f2c",
    "outputId": "affb450e-f0fa-456b-ce0e-5d3e22434eb5"
   },
   "outputs": [
    {
     "name": "stdout",
     "output_type": "stream",
     "text": [
      "DATa\n"
     ]
    }
   ],
   "source": [
    "a='DATa'\n",
    "print(a)"
   ]
  },
  {
   "cell_type": "markdown",
   "id": "7acd642f-f749-4deb-b9c1-e7165ecafd3e",
   "metadata": {
    "id": "7acd642f-f749-4deb-b9c1-e7165ecafd3e"
   },
   "source": [
    "### Strings are arrays"
   ]
  },
  {
   "cell_type": "code",
   "execution_count": 2,
   "id": "74008d2b-75c7-4134-bafc-6bb2c6a7bc78",
   "metadata": {
    "colab": {
     "base_uri": "https://localhost:8080/"
    },
    "id": "74008d2b-75c7-4134-bafc-6bb2c6a7bc78",
    "outputId": "5d079971-8563-4c3e-8152-e55610717a22"
   },
   "outputs": [
    {
     "name": "stdout",
     "output_type": "stream",
     "text": [
      "S\n"
     ]
    }
   ],
   "source": [
    "a='DATASET'\n",
    "print(a[4])"
   ]
  },
  {
   "cell_type": "markdown",
   "id": "bc15bf91-e8b8-4de5-ae0f-f3f2e4888a98",
   "metadata": {
    "id": "bc15bf91-e8b8-4de5-ae0f-f3f2e4888a98"
   },
   "source": [
    "### Slicing"
   ]
  },
  {
   "cell_type": "code",
   "execution_count": 3,
   "id": "a6db4d0d-9ea6-4207-a63c-f1869d29f5aa",
   "metadata": {
    "colab": {
     "base_uri": "https://localhost:8080/"
    },
    "id": "a6db4d0d-9ea6-4207-a63c-f1869d29f5aa",
    "outputId": "52a8c429-d351-41ed-c6fe-69bdabb5b816"
   },
   "outputs": [
    {
     "name": "stdout",
     "output_type": "stream",
     "text": [
      "A S\n",
      "TA S\n",
      "T \n"
     ]
    }
   ],
   "source": [
    "a='DATA SET'\n",
    "print(a[3:6])\n",
    "print(a[-6:-2])\n",
    "print(a[2:6:2])"
   ]
  },
  {
   "cell_type": "markdown",
   "id": "1ca32f5a-8943-493e-a19f-09bbc99d2ffc",
   "metadata": {
    "id": "1ca32f5a-8943-493e-a19f-09bbc99d2ffc"
   },
   "source": [
    "### String Methods"
   ]
  },
  {
   "cell_type": "code",
   "execution_count": 4,
   "id": "75ac95f3-bd9b-4228-abf1-1a4d4efe3f3a",
   "metadata": {
    "colab": {
     "base_uri": "https://localhost:8080/"
    },
    "id": "75ac95f3-bd9b-4228-abf1-1a4d4efe3f3a",
    "outputId": "b4c365e3-7180-4816-da24-d102a73abf08"
   },
   "outputs": [
    {
     "name": "stdout",
     "output_type": "stream",
     "text": [
      "['DATA', 'SET']\n"
     ]
    }
   ],
   "source": [
    "# strip() will remove whitespace\n",
    "print(a.split())"
   ]
  },
  {
   "cell_type": "code",
   "execution_count": 5,
   "id": "56111d85-83d3-4613-819e-25dec8282fa1",
   "metadata": {
    "colab": {
     "base_uri": "https://localhost:8080/"
    },
    "id": "56111d85-83d3-4613-819e-25dec8282fa1",
    "outputId": "f3b8a262-cad8-4ea4-d703-70eb3de56ee9"
   },
   "outputs": [
    {
     "name": "stdout",
     "output_type": "stream",
     "text": [
      "data set\n"
     ]
    }
   ],
   "source": [
    "#lower()-converts lowercase word\n",
    "print(a.lower())"
   ]
  },
  {
   "cell_type": "code",
   "execution_count": 6,
   "id": "4969e9bb-a5d3-4799-bb98-2ce7be8f50e0",
   "metadata": {
    "colab": {
     "base_uri": "https://localhost:8080/"
    },
    "id": "4969e9bb-a5d3-4799-bb98-2ce7be8f50e0",
    "outputId": "1faac5c0-6f6e-4687-e1d6-c2afd1a1b5ca"
   },
   "outputs": [
    {
     "name": "stdout",
     "output_type": "stream",
     "text": [
      "DATA SET\n"
     ]
    }
   ],
   "source": [
    "#upper()-converts uppercase word\n",
    "print(a.upper())"
   ]
  },
  {
   "cell_type": "code",
   "execution_count": 7,
   "id": "e8c9176a-898c-46b9-8525-e6e0b0a87534",
   "metadata": {
    "colab": {
     "base_uri": "https://localhost:8080/"
    },
    "id": "e8c9176a-898c-46b9-8525-e6e0b0a87534",
    "outputId": "4f8098c4-fb02-41c2-8704-2c305ace0086"
   },
   "outputs": [
    {
     "name": "stdout",
     "output_type": "stream",
     "text": [
      "me am chrmesty\n"
     ]
    }
   ],
   "source": [
    "#replace()-replace one string with another string\n",
    "a= 'i am christy'\n",
    "print(a.replace('i', 'me'))"
   ]
  },
  {
   "cell_type": "markdown",
   "id": "2d1be2c9-f013-4ea2-8d2c-870b90ef34e9",
   "metadata": {
    "id": "2d1be2c9-f013-4ea2-8d2c-870b90ef34e9"
   },
   "source": [
    "### String Concatenation"
   ]
  },
  {
   "cell_type": "code",
   "execution_count": 8,
   "id": "74d15453-1c4e-4066-9280-530a6f9c45d7",
   "metadata": {
    "colab": {
     "base_uri": "https://localhost:8080/"
    },
    "id": "74d15453-1c4e-4066-9280-530a6f9c45d7",
    "outputId": "ddddf682-fe6f-461d-8581-98630f100fd3"
   },
   "outputs": [
    {
     "name": "stdout",
     "output_type": "stream",
     "text": [
      "data test Train\n"
     ]
    }
   ],
   "source": [
    "a='data test'\n",
    "b='Train'\n",
    "print(a+' '+b)"
   ]
  },
  {
   "cell_type": "markdown",
   "id": "4ecbcfea-830c-404a-be52-af5ce4a8b6b0",
   "metadata": {
    "id": "4ecbcfea-830c-404a-be52-af5ce4a8b6b0"
   },
   "source": [
    "### Create a text file"
   ]
  },
  {
   "cell_type": "code",
   "execution_count": 9,
   "id": "bf25a5b1-9d53-4ed0-b725-37bd7203aca6",
   "metadata": {
    "id": "bf25a5b1-9d53-4ed0-b725-37bd7203aca6"
   },
   "outputs": [],
   "source": [
    "# Step 1\n",
    "file=open('datatest.txt', 'w+')"
   ]
  },
  {
   "cell_type": "code",
   "execution_count": 10,
   "id": "395857f9-d660-4cb4-a399-89e1e8dfb8ce",
   "metadata": {
    "id": "395857f9-d660-4cb4-a399-89e1e8dfb8ce"
   },
   "outputs": [],
   "source": [
    "# Step 2\n",
    "for i in range(5):\n",
    "    file.write('Line number is %d\\r\\n'%(i+1))"
   ]
  },
  {
   "cell_type": "code",
   "execution_count": 11,
   "id": "d208ecb0-4b66-459c-9503-7086bf4dc14d",
   "metadata": {
    "id": "d208ecb0-4b66-459c-9503-7086bf4dc14d"
   },
   "outputs": [],
   "source": [
    "# Step 3\n",
    "file.close()"
   ]
  },
  {
   "attachments": {
    "71e4c962-984d-4940-85ef-39e761ada711.png": {
     "image/png": "[encoded data removed]"
    }
   },
   "cell_type": "markdown",
   "id": "204bb6f3-3082-4f0d-b944-9e8280654dc4",
   "metadata": {
    "id": "204bb6f3-3082-4f0d-b944-9e8280654dc4"
   },
   "source": [
    "![datatest.png](attachment:71e4c962-984d-4940-85ef-39e761ada711.png)"
   ]
  },
  {
   "cell_type": "markdown",
   "id": "68c966f3-7ebd-430d-b66a-4c2e0fec8fc5",
   "metadata": {
    "id": "68c966f3-7ebd-430d-b66a-4c2e0fec8fc5"
   },
   "source": [
    "### Append data to a file"
   ]
  },
  {
   "cell_type": "code",
   "execution_count": 12,
   "id": "a5045c45-3c95-40ce-8551-21f9324c880c",
   "metadata": {
    "id": "a5045c45-3c95-40ce-8551-21f9324c880c"
   },
   "outputs": [],
   "source": [
    "# Step 1\n",
    "file=open('datatest.txt', 'a+')"
   ]
  },
  {
   "cell_type": "code",
   "execution_count": 13,
   "id": "e86ce92a-7133-4b53-8f69-d9355a8bbb9f",
   "metadata": {
    "id": "e86ce92a-7133-4b53-8f69-d9355a8bbb9f"
   },
   "outputs": [],
   "source": [
    "# Step 2\n",
    "for i in range(5):\n",
    "    file.write('Appending Line number %d\\r\\n'%(i+1))"
   ]
  },
  {
   "cell_type": "code",
   "execution_count": 14,
   "id": "38658ab8-fb84-4f25-8756-66c80b8fdf35",
   "metadata": {
    "id": "38658ab8-fb84-4f25-8756-66c80b8fdf35"
   },
   "outputs": [],
   "source": [
    "# Step 3\n",
    "file.close()"
   ]
  },
  {
   "attachments": {
    "5e0359a9-92e3-4901-a254-09a450d9e55d.png": {
     "image/png": "[encoded data removed]"
    }
   },
   "cell_type": "markdown",
   "id": "e94157c4-7871-403d-8aed-6ea216096bc6",
   "metadata": {
    "id": "e94157c4-7871-403d-8aed-6ea216096bc6"
   },
   "source": [
    "![Screenshot 2025-07-22 221941.png](attachment:5e0359a9-92e3-4901-a254-09a450d9e55d.png)"
   ]
  },
  {
   "cell_type": "markdown",
   "id": "adaa4053-f95e-4176-844b-4c1a6434b105",
   "metadata": {
    "id": "adaa4053-f95e-4176-844b-4c1a6434b105"
   },
   "source": [
    "### Read the files"
   ]
  },
  {
   "cell_type": "code",
   "execution_count": 15,
   "id": "26caf116-4cba-41f7-ab79-ff6a28eb66be",
   "metadata": {
    "id": "26caf116-4cba-41f7-ab79-ff6a28eb66be"
   },
   "outputs": [],
   "source": [
    "# Step 1// open the file in read mode\n",
    "file=open('datatest.txt', 'r')"
   ]
  },
  {
   "cell_type": "code",
   "execution_count": 16,
   "id": "a761a887-01b6-4c2d-8f27-e7b11652eeee",
   "metadata": {
    "id": "a761a887-01b6-4c2d-8f27-e7b11652eeee"
   },
   "outputs": [],
   "source": [
    "# Step 2// check our file is open or not\n",
    "if file.mode == 'r':\n",
    "    content=file.read() # strore it in the variable"
   ]
  },
  {
   "cell_type": "code",
   "execution_count": 17,
   "id": "dbfd4f64-bda3-457a-a548-9b721bfc9d5c",
   "metadata": {
    "colab": {
     "base_uri": "https://localhost:8080/"
    },
    "id": "dbfd4f64-bda3-457a-a548-9b721bfc9d5c",
    "outputId": "fec8a47c-a172-4210-e45a-73ffe0be4ede"
   },
   "outputs": [
    {
     "name": "stdout",
     "output_type": "stream",
     "text": [
      "Line number is 1\n",
      "Line number is 2\n",
      "Line number is 3\n",
      "Line number is 4\n",
      "Line number is 5\n",
      "Appending Line number 1\n",
      "Appending Line number 2\n",
      "Appending Line number 3\n",
      "Appending Line number 4\n",
      "Appending Line number 5\n",
      "\n",
      "The output will be\n"
     ]
    }
   ],
   "source": [
    "# Step 3// printing the file\n",
    "print(content)\n",
    "print('The output will be')"
   ]
  },
  {
   "cell_type": "markdown",
   "id": "01c887b9-8f3f-4efa-9c5c-a3c68483546d",
   "metadata": {
    "id": "01c887b9-8f3f-4efa-9c5c-a3c68483546d"
   },
   "source": [
    "### Text Preprocessing"
   ]
  },
  {
   "cell_type": "code",
   "execution_count": 18,
   "id": "6b860a7b-4b19-4ca5-813b-58deda0a0cd5",
   "metadata": {
    "id": "6b860a7b-4b19-4ca5-813b-58deda0a0cd5"
   },
   "outputs": [],
   "source": [
    "# Import necessary libraries\n",
    "import nltk\n",
    "import string\n",
    "import re"
   ]
  },
  {
   "cell_type": "code",
   "execution_count": 19,
   "id": "b18474f2-51ab-4a31-88f1-9e76a766e062",
   "metadata": {
    "colab": {
     "base_uri": "https://localhost:8080/",
     "height": 36
    },
    "id": "b18474f2-51ab-4a31-88f1-9e76a766e062",
    "outputId": "e4823bcf-111d-43b7-d66c-259af60b4594"
   },
   "outputs": [
    {
     "data": {
      "application/vnd.google.colaboratory.intrinsic+json": {
       "type": "string"
      },
      "text/plain": [
       "'You bought  candles from shope, and  candies are in home'"
      ]
     },
     "execution_count": 19,
     "metadata": {},
     "output_type": "execute_result"
    }
   ],
   "source": [
    "# Removing numbers\n",
    "def remove_num(text):\n",
    "    result=re.sub(r'\\d+', '', text)\n",
    "    return result\n",
    "input_s='You bought 6 candles from shope, and 4 candies are in home'\n",
    "remove_num(input_s)"
   ]
  },
  {
   "cell_type": "code",
   "execution_count": 20,
   "id": "cc5fbf50-34b7-48d3-a588-a97c0f35e1ca",
   "metadata": {
    "colab": {
     "base_uri": "https://localhost:8080/"
    },
    "id": "cc5fbf50-34b7-48d3-a588-a97c0f35e1ca",
    "outputId": "80d564ed-6c36-4680-d597-fa7d99213b9c"
   },
   "outputs": [
    {
     "name": "stdout",
     "output_type": "stream",
     "text": [
      "Requirement already satisfied: inflect in /usr/local/lib/python3.11/dist-packages (7.5.0)\n",
      "Requirement already satisfied: more_itertools>=8.5.0 in /usr/local/lib/python3.11/dist-packages (from inflect) (10.7.0)\n",
      "Requirement already satisfied: typeguard>=4.0.1 in /usr/local/lib/python3.11/dist-packages (from inflect) (4.4.4)\n",
      "Requirement already satisfied: typing_extensions>=4.14.0 in /usr/local/lib/python3.11/dist-packages (from typeguard>=4.0.1->inflect) (4.14.1)\n"
     ]
    }
   ],
   "source": [
    "!pip install inflect"
   ]
  },
  {
   "cell_type": "code",
   "execution_count": 22,
   "id": "9b2e77d1-b63f-44db-a7dc-aa98f81ee4f4",
   "metadata": {
    "id": "9b2e77d1-b63f-44db-a7dc-aa98f81ee4f4"
   },
   "outputs": [],
   "source": [
    "# import library\n",
    "import inflect\n",
    "inf=inflect.engine()"
   ]
  },
  {
   "cell_type": "code",
   "execution_count": 24,
   "id": "93HLymVIRTGR",
   "metadata": {
    "colab": {
     "base_uri": "https://localhost:8080/"
    },
    "id": "93HLymVIRTGR",
    "outputId": "669543d2-2bf2-4206-b948-5c9ff650d9f8"
   },
   "outputs": [
    {
     "data": {
      "text/plain": [
       "['You',\n",
       " 'bought',\n",
       " 'six',\n",
       " 'candies',\n",
       " 'from',\n",
       " 'shop,',\n",
       " 'and',\n",
       " 'four',\n",
       " 'candies',\n",
       " 'are',\n",
       " 'in',\n",
       " 'home.']"
      ]
     },
     "execution_count": 24,
     "metadata": {},
     "output_type": "execute_result"
    }
   ],
   "source": [
    "#convert number into text\n",
    "def convert_num(text):\n",
    "  # split strings into list of texts\n",
    "  temp_string = text.split()\n",
    "  # initialise empty list\n",
    "  new_string = []\n",
    "\n",
    "  for word in temp_string:\n",
    "    #if text is a digit, convert the digit\n",
    "    # to numbers and append into the new str list\n",
    "    if word.isdigit():\n",
    "      temp = inf.number_to_words(word)\n",
    "      new_string.append(temp)\n",
    "    else:\n",
    "      new_string.append(word)\n",
    "  #Join the texts of new str to form a string\n",
    "  temp_str = ' '.join(new_string)\n",
    "  return new_string\n",
    "\n",
    "input_str = 'You bought 6 candies from shop, and 4 candies are in home.'\n",
    "convert_num(input_str)"
   ]
  },
  {
   "cell_type": "markdown",
   "id": "3G-usUXHTbh9",
   "metadata": {
    "id": "3G-usUXHTbh9"
   },
   "source": [
    "### Remove Punctuation"
   ]
  },
  {
   "cell_type": "code",
   "execution_count": 28,
   "id": "hQIhJ2NATY7T",
   "metadata": {
    "colab": {
     "base_uri": "https://localhost:8080/",
     "height": 36
    },
    "id": "hQIhJ2NATY7T",
    "outputId": "7d4d69aa-dd06-4529-b33a-c04738e153fd"
   },
   "outputs": [
    {
     "data": {
      "application/vnd.google.colaboratory.intrinsic+json": {
       "type": "string"
      },
      "text/plain": [
       "'Hey are you excited after a week we will be in Shimla'"
      ]
     },
     "execution_count": 28,
     "metadata": {},
     "output_type": "execute_result"
    }
   ],
   "source": [
    "# Remove punctuation\n",
    "def remove_punc(text):\n",
    "    translator=str.maketrans('', '', string.punctuation)\n",
    "    return text.translate(translator)\n",
    "\n",
    "input_str = 'Hey, are you excited??, after a week, we will be in Shimla!!!'\n",
    "remove_punc(input_str)"
   ]
  },
  {
   "cell_type": "code",
   "execution_count": 30,
   "id": "tg55VjyLUnMm",
   "metadata": {
    "colab": {
     "base_uri": "https://localhost:8080/",
     "height": 36
    },
    "id": "tg55VjyLUnMm",
    "outputId": "37e3f5c2-b65d-40a2-b6ee-91eca54ce5fa"
   },
   "outputs": [
    {
     "data": {
      "application/vnd.google.colaboratory.intrinsic+json": {
       "type": "string"
      },
      "text/plain": [
       "'!\"#$%&\\'()*+,-./:;<=>?@[\\\\]^_`{|}~'"
      ]
     },
     "execution_count": 30,
     "metadata": {},
     "output_type": "execute_result"
    }
   ],
   "source": [
    "string.punctuation"
   ]
  },
  {
   "cell_type": "code",
   "execution_count": null,
   "id": "YbMPBaoWXIaY",
   "metadata": {
    "id": "YbMPBaoWXIaY"
   },
   "outputs": [],
   "source": []
  },
  {
   "cell_type": "markdown",
   "id": "mbUdJpVBUvaE",
   "metadata": {
    "id": "mbUdJpVBUvaE"
   },
   "source": [
    "### Remove default stopwords"
   ]
  },
  {
   "cell_type": "code",
   "execution_count": 42,
   "id": "1ELw-8hdXJig",
   "metadata": {
    "colab": {
     "base_uri": "https://localhost:8080/"
    },
    "id": "1ELw-8hdXJig",
    "outputId": "73e3da86-7697-4f1a-a073-90f473f6023c"
   },
   "outputs": [
    {
     "name": "stderr",
     "output_type": "stream",
     "text": [
      "[nltk_data] Downloading package stopwords to /root/nltk_data...\n",
      "[nltk_data]   Package stopwords is already up-to-date!\n",
      "[nltk_data] Downloading package punkt to /root/nltk_data...\n",
      "[nltk_data]   Package punkt is already up-to-date!\n"
     ]
    },
    {
     "data": {
      "text/plain": [
       "True"
      ]
     },
     "execution_count": 42,
     "metadata": {},
     "output_type": "execute_result"
    }
   ],
   "source": [
    "# import nltk library\n",
    "from nltk.corpus import stopwords\n",
    "from nltk.tokenize import word_tokenize\n",
    "nltk.download('stopwords')\n",
    "nltk.download('punkt')"
   ]
  },
  {
   "cell_type": "code",
   "execution_count": 47,
   "id": "sd_Cw8K-VA7r",
   "metadata": {
    "id": "sd_Cw8K-VA7r"
   },
   "outputs": [],
   "source": [
    "# Remove stopwords function\n",
    "def rem_stopwords(text):\n",
    "  stop_words = set(stopwords.words('english'))\n",
    "  word_tokens = word_tokenize(text)\n",
    "  filtered_text = [word for word in word_tokens if word not in string.punctuation]\n",
    "  filtered_text = [word for word in filtered_text if word not in stop_words]\n",
    "  return filtered_text"
   ]
  },
  {
   "cell_type": "code",
   "execution_count": 48,
   "id": "tQGpkH3XWlZ1",
   "metadata": {
    "colab": {
     "base_uri": "https://localhost:8080/"
    },
    "id": "tQGpkH3XWlZ1",
    "outputId": "2bf93a03-69b7-4f41-8bf6-b7df750c2ab8"
   },
   "outputs": [
    {
     "data": {
      "text/plain": [
       "['Data', 'new', 'oil', 'A.I', 'last', 'invention']"
      ]
     },
     "execution_count": 48,
     "metadata": {},
     "output_type": "execute_result"
    }
   ],
   "source": [
    "ex_text = 'Data is the new oil. A.I is the last invention'\n",
    "rem_stopwords(ex_text)"
   ]
  },
  {
   "cell_type": "markdown",
   "id": "Tu09DqveX5or",
   "metadata": {
    "id": "Tu09DqveX5or"
   },
   "source": [
    "### Stemming"
   ]
  },
  {
   "cell_type": "code",
   "execution_count": 50,
   "id": "VXXbWhKVWQbQ",
   "metadata": {
    "id": "VXXbWhKVWQbQ"
   },
   "outputs": [],
   "source": [
    "# import nlkt porter stemmer\n",
    "from nltk.stem.porter import PorterStemmer\n",
    "from nltk.tokenize import word_tokenize\n",
    "stem1 = PorterStemmer()\n",
    "# Stem words in the list of tokenized words\n",
    "def stop_words(text):\n",
    "  word_tokens = word_tokenize(text)\n",
    "  stems = [stem1.stem(word) for word in word_tokens]\n",
    "  return stems"
   ]
  },
  {
   "cell_type": "code",
   "execution_count": 51,
   "id": "s_qdp1M9X3fo",
   "metadata": {
    "colab": {
     "base_uri": "https://localhost:8080/"
    },
    "id": "s_qdp1M9X3fo",
    "outputId": "33a8c16d-7068-41fd-e8ca-bf83af56d9ff"
   },
   "outputs": [
    {
     "data": {
      "text/plain": [
       "['data',\n",
       " 'is',\n",
       " 'the',\n",
       " 'new',\n",
       " 'revolut',\n",
       " 'in',\n",
       " 'the',\n",
       " 'world',\n",
       " ',',\n",
       " 'in',\n",
       " 'a',\n",
       " 'data',\n",
       " 'one',\n",
       " 'individu',\n",
       " 'would',\n",
       " 'gener',\n",
       " 'terabyt',\n",
       " 'of',\n",
       " 'data']"
      ]
     },
     "execution_count": 51,
     "metadata": {},
     "output_type": "execute_result"
    }
   ],
   "source": [
    "# Stem words in the list of tokenized words\n",
    "def stop_words(text):\n",
    "  word_tokens = word_tokenize(text)\n",
    "  stems = [stem1.stem(word) for word in word_tokens]\n",
    "  return stems\n",
    "text='Data is the new revolution in the world, in a data one individual would generate terabytes of data'\n",
    "stop_words(text)"
   ]
  },
  {
   "cell_type": "markdown",
   "id": "X99S2uRsZYbv",
   "metadata": {
    "id": "X99S2uRsZYbv"
   },
   "source": [
    "### Lemmatization"
   ]
  },
  {
   "cell_type": "code",
   "execution_count": 53,
   "id": "DLuHLiO1ZXIX",
   "metadata": {
    "colab": {
     "base_uri": "https://localhost:8080/"
    },
    "id": "DLuHLiO1ZXIX",
    "outputId": "51031f9a-74e4-441e-eddd-b095059ac24e"
   },
   "outputs": [
    {
     "name": "stderr",
     "output_type": "stream",
     "text": [
      "[nltk_data] Downloading package wordnet to /root/nltk_data...\n"
     ]
    },
    {
     "data": {
      "text/plain": [
       "['Data',\n",
       " 'be',\n",
       " 'the',\n",
       " 'new',\n",
       " 'revolution',\n",
       " 'in',\n",
       " 'the',\n",
       " 'world',\n",
       " ',',\n",
       " 'in',\n",
       " 'a',\n",
       " 'data',\n",
       " 'one',\n",
       " 'individual',\n",
       " 'would',\n",
       " 'generate',\n",
       " 'terabytes',\n",
       " 'of',\n",
       " 'data']"
      ]
     },
     "execution_count": 53,
     "metadata": {},
     "output_type": "execute_result"
    }
   ],
   "source": [
    "from nltk.stem import wordnet\n",
    "from nltk.tokenize import word_tokenize\n",
    "lemma=wordnet.WordNetLemmatizer()\n",
    "nltk.download('wordnet')\n",
    "\n",
    "# Lemmatize the string\n",
    "def lemmatize_word(text):\n",
    "  word_tokens = word_tokenize(text)\n",
    "  # provide context like part-of-speech(pos)\n",
    "  lemmas=[lemma.lemmatize(word, pos='v') for word in word_tokens]\n",
    "  return lemmas\n",
    "text='Data is the new revolution in the world, in a data one individual would generate terabytes of data'\n",
    "lemmatize_word(text)\n",
    "#"
   ]
  },
  {
   "cell_type": "markdown",
   "id": "3zhLVzf5awRs",
   "metadata": {
    "id": "3zhLVzf5awRs"
   },
   "source": [
    "### Parts of Speech (POS) tagging"
   ]
  },
  {
   "cell_type": "code",
   "execution_count": 65,
   "id": "Gun8sXmKaxWa",
   "metadata": {
    "colab": {
     "base_uri": "https://localhost:8080/"
    },
    "id": "Gun8sXmKaxWa",
    "outputId": "14b7e97c-cdd2-42b4-986d-5dc2d1f60bd5"
   },
   "outputs": [
    {
     "name": "stderr",
     "output_type": "stream",
     "text": [
      "[nltk_data] Downloading package averaged_perceptron_tagger_eng to\n",
      "[nltk_data]     /root/nltk_data...\n",
      "[nltk_data]   Package averaged_perceptron_tagger_eng is already up-to-\n",
      "[nltk_data]       date!\n"
     ]
    },
    {
     "data": {
      "text/plain": [
       "[('Are', 'NNP'),\n",
       " ('you', 'PRP'),\n",
       " ('afraid', 'IN'),\n",
       " ('of', 'IN'),\n",
       " ('something', 'NN')]"
      ]
     },
     "execution_count": 65,
     "metadata": {},
     "output_type": "execute_result"
    }
   ],
   "source": [
    "# import tokenize library\n",
    "from nltk.tokenize import word_tokenize\n",
    "from nltk import pos_tag\n",
    "nltk.download('averaged_perceptron_tagger_eng')\n",
    "# convert text i nto word_tokens with their tags\n",
    "def pos_tagg(text):\n",
    "  word_tokens = word_tokenize(text)\n",
    "  return pos_tag(word_tokens)\n",
    "pos_tagg('Are you afraid of something')"
   ]
  }
 ],
 "metadata": {
  "colab": {
   "provenance": []
  },
  "kernelspec": {
   "display_name": "Python [conda env:base] *",
   "language": "python",
   "name": "conda-base-py"
  },
  "language_info": {
   "codemirror_mode": {
    "name": "ipython",
    "version": 3
   },
   "file_extension": ".py",
   "mimetype": "text/x-python",
   "name": "python",
   "nbconvert_exporter": "python",
   "pygments_lexer": "ipython3",
   "version": "3.12.7"
  }
 },
 "nbformat": 4,
 "nbformat_minor": 5
}
