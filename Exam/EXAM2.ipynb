{
 "cells": [
  {
   "cell_type": "code",
   "execution_count": 1,
   "id": "a030912f-5fd8-4210-92f9-888d8cb5014a",
   "metadata": {},
   "outputs": [],
   "source": [
    "#Functions"
   ]
  },
  {
   "cell_type": "code",
   "execution_count": 45,
   "id": "2d1e727a-1ca5-44e4-a4c3-4a55f1c33873",
   "metadata": {},
   "outputs": [
    {
     "name": "stdout",
     "output_type": "stream",
     "text": [
      "Square of the number is  2500\n"
     ]
    }
   ],
   "source": [
    "# 1- Write a function that takes a number and returns its square\n",
    "def square_number(number):\n",
    "    return (number*number)\n",
    "print(\"Square of the number is \", square_number(50))"
   ]
  },
  {
   "cell_type": "code",
   "execution_count": 47,
   "id": "bc3b4cc5-d421-46dd-a025-2f1974a969b4",
   "metadata": {},
   "outputs": [
    {
     "name": "stdout",
     "output_type": "stream",
     "text": [
      "30  is larger\n"
     ]
    }
   ],
   "source": [
    "#2- Write a function that takes two numbers and returns the larger one\n",
    "def greatest (a,b):\n",
    "    if a>b :\n",
    "        print(a, \" is larger\")\n",
    "    else:\n",
    "        print(b, \" is larger\")\n",
    "greatest(10,30)"
   ]
  },
  {
   "cell_type": "code",
   "execution_count": 49,
   "id": "7711306d-6162-4e6d-a120-d32027a9dab4",
   "metadata": {},
   "outputs": [
    {
     "name": "stdout",
     "output_type": "stream",
     "text": [
      "Welcome to AIML\n",
      "Welcome to AIML\n",
      "Welcome to AIML\n",
      "Welcome to AIML\n",
      "Welcome to AIML\n"
     ]
    }
   ],
   "source": [
    "#3- Write a function that prints “Welcome to AIML” five times using a loop.\n",
    "def print_string(string_input):\n",
    "    for i in range(5):\n",
    "        print(string_input)\n",
    "print_string(\"Welcome to AIML\")"
   ]
  },
  {
   "cell_type": "code",
   "execution_count": 51,
   "id": "776b743e-afde-463b-b053-f12b940c37e6",
   "metadata": {},
   "outputs": [
    {
     "name": "stdout",
     "output_type": "stream",
     "text": [
      "11  is odd\n"
     ]
    }
   ],
   "source": [
    "#4- Write a function that checks if a number is even or odd.\n",
    "def even_odd (a):\n",
    "    if (a%2==0) :\n",
    "        print(a, \" is even\")\n",
    "    else:\n",
    "        print(a, \" is odd\")\n",
    "even_odd (11)"
   ]
  },
  {
   "cell_type": "code",
   "execution_count": 55,
   "id": "4631119b-b331-46e3-a3fc-47b608ca8e35",
   "metadata": {},
   "outputs": [
    {
     "data": {
      "text/plain": [
       "27"
      ]
     },
     "execution_count": 55,
     "metadata": {},
     "output_type": "execute_result"
    }
   ],
   "source": [
    "#5- Create a function that takes a list and returns the sum of all elements.\n",
    "def given_list(input_list):\n",
    "    output = 0\n",
    "    for i in input_list:\n",
    "        output += i\n",
    "    return output\n",
    "given_list ([5, 6, 7, 9])\n"
   ]
  },
  {
   "cell_type": "code",
   "execution_count": 57,
   "id": "82121455-6a27-4740-9ac9-5f1020b77531",
   "metadata": {},
   "outputs": [],
   "source": [
    "#Loops"
   ]
  },
  {
   "cell_type": "code",
   "execution_count": 59,
   "id": "e674e4ec-222f-4b35-a77f-129446800d32",
   "metadata": {},
   "outputs": [
    {
     "name": "stdout",
     "output_type": "stream",
     "text": [
      "1\n",
      "2\n",
      "3\n",
      "4\n",
      "5\n",
      "6\n",
      "7\n",
      "8\n",
      "9\n",
      "10\n"
     ]
    }
   ],
   "source": [
    "#1- Write a for loop to print numbers from 1 to 10\n",
    "for i in range(1, 11):\n",
    "    print(i)"
   ]
  },
  {
   "cell_type": "code",
   "execution_count": 61,
   "id": "64d6dc25-4f92-46be-86da-a16c574603c3",
   "metadata": {},
   "outputs": [
    {
     "name": "stdout",
     "output_type": "stream",
     "text": [
      "2\n",
      "4\n",
      "6\n",
      "8\n",
      "10\n"
     ]
    }
   ],
   "source": [
    "#2- Write a while loop to print all even numbers between 1 and 20\n",
    "last_num = 2\n",
    "while last_num <= 10:\n",
    "    print(last_num)\n",
    "    last_num += 2"
   ]
  },
  {
   "cell_type": "code",
   "execution_count": 65,
   "id": "82c1c8e3-012e-482b-95e0-88bee1967c0c",
   "metadata": {},
   "outputs": [
    {
     "name": "stdin",
     "output_type": "stream",
     "text": [
      "Enter the string  Welcome\n"
     ]
    },
    {
     "name": "stdout",
     "output_type": "stream",
     "text": [
      "W\n",
      "e\n",
      "l\n",
      "c\n",
      "o\n",
      "m\n",
      "e\n"
     ]
    }
   ],
   "source": [
    "#3- Write a loop to print each character of a given string\n",
    "string = input(\"Enter the string \")\n",
    "for each_char in string:\n",
    "    print(each_char)"
   ]
  },
  {
   "cell_type": "code",
   "execution_count": 67,
   "id": "b728dfb5-7bed-4516-8b65-8be8b37a554c",
   "metadata": {},
   "outputs": [
    {
     "name": "stdout",
     "output_type": "stream",
     "text": [
      "5X1=5\n",
      "5X2=10\n",
      "5X3=15\n",
      "5X4=20\n",
      "5X5=25\n",
      "5X6=30\n",
      "5X7=35\n",
      "5X8=40\n",
      "5X9=45\n",
      "5X10=50\n"
     ]
    }
   ],
   "source": [
    "#4- Write a loop that prints the multiplication table of 5\n",
    "input_num=5\n",
    "for i in range(1,11):\n",
    "    print(f\"{input_num}X{i}={input_num*i}\")"
   ]
  },
  {
   "cell_type": "code",
   "execution_count": 71,
   "id": "1c9249d1-634e-4f74-acb4-7d2db273c0ae",
   "metadata": {},
   "outputs": [
    {
     "name": "stdout",
     "output_type": "stream",
     "text": [
      "5\n",
      "6\n",
      "7\n",
      "9\n"
     ]
    }
   ],
   "source": [
    "#5- Write a loop that takes a list of numbers and prints only the positive ones\n",
    "my_list=[5, -2, 7, -1]\n",
    "for i in input_list:\n",
    "    if (i>0):\n",
    "        print(i)"
   ]
  },
  {
   "cell_type": "code",
   "execution_count": 73,
   "id": "efcdda36-7b4a-4200-b0ec-f32eab5cdfd9",
   "metadata": {},
   "outputs": [],
   "source": [
    "#Try and Except"
   ]
  },
  {
   "cell_type": "code",
   "execution_count": 83,
   "id": "e4c7881a-803f-4ffb-be11-9c0eebedc4b8",
   "metadata": {},
   "outputs": [
    {
     "name": "stdout",
     "output_type": "stream",
     "text": [
      "3.0\n"
     ]
    }
   ],
   "source": [
    "#1- Write a function that takes two numbers and divides them. Use try and except to handle divide-by-zero errors.\n",
    "def divide(a, b):\n",
    "    try:\n",
    "        output = a/b\n",
    "        return output\n",
    "    except divide_by_zero_error:\n",
    "        return \"Not divide by zero.\"\n",
    "print(divide(9, 3))\n"
   ]
  },
  {
   "cell_type": "code",
   "execution_count": 97,
   "id": "fbe7340c-e07d-42f9-a650-513bf4e85d73",
   "metadata": {},
   "outputs": [
    {
     "name": "stdin",
     "output_type": "stream",
     "text": [
      "Enter the number  6\n"
     ]
    },
    {
     "name": "stdout",
     "output_type": "stream",
     "text": [
      "Entered the valid number:  6.0\n"
     ]
    }
   ],
   "source": [
    "#2- Write a program that asks the user for a number and handles the case where the input is not a number using try and except.\n",
    "def number():\n",
    "    try:\n",
    "        input_num = input(\"Enter the number \")\n",
    "        input_number = float(input_num)\n",
    "        print(\"Entered the valid number: \", input_number)\n",
    "    except Error:\n",
    "        print(\"Not a valid number\")\n",
    "number()"
   ]
  },
  {
   "cell_type": "code",
   "execution_count": 107,
   "id": "942f6964-7aac-4566-916e-709eb521b3be",
   "metadata": {},
   "outputs": [
    {
     "name": "stdin",
     "output_type": "stream",
     "text": [
      "Enter the filename to open:  guhj\n"
     ]
    },
    {
     "name": "stdout",
     "output_type": "stream",
     "text": [
      "The file  guhj was not found.\n"
     ]
    }
   ],
   "source": [
    "#3- Write a program that opens a file using try, and prints a custom error if the file is not found.\n",
    "def file(file_name):\n",
    "    try:\n",
    "        with open(file_name, 'r') as file:\n",
    "            content = file.read()\n",
    "            print(\"File content:\")\n",
    "            print(content)\n",
    "    except FileNotFoundError:\n",
    "        print(\"The file \",file_name, \"was not found.\")\n",
    "\n",
    "file_name = input(\"Enter the filename to open: \")\n",
    "file(file_name)"
   ]
  },
  {
   "cell_type": "code",
   "execution_count": 119,
   "id": "e1564960-f6d7-4c30-bf35-113516a0bdc3",
   "metadata": {},
   "outputs": [
    {
     "name": "stdout",
     "output_type": "stream",
     "text": [
      "Error: Inputs must be numbers\n"
     ]
    }
   ],
   "source": [
    "#4- Create a function that adds two numbers, and raises an error message if one of the inputs is not a number\n",
    "def numbers(a, b):\n",
    "    if (a != (int, float)) or (b != (int, float)):\n",
    "        raise TypeError(\"Inputs must be numbers\")\n",
    "    return a + b\n",
    "\n",
    "try:\n",
    "    output = numbers(6, \"hii\")\n",
    "    print(\"Output:\", result)\n",
    "except TypeError as e:\n",
    "    print(\"Error:\", e)"
   ]
  },
  {
   "cell_type": "code",
   "execution_count": 125,
   "id": "9500eb46-e4f8-4403-9767-091ec9c15d2c",
   "metadata": {},
   "outputs": [
    {
     "name": "stdin",
     "output_type": "stream",
     "text": [
      "Enter an integer:  8\n"
     ]
    },
    {
     "name": "stdout",
     "output_type": "stream",
     "text": [
      "You entered integer:  8\n"
     ]
    }
   ],
   "source": [
    "#5- Write a program using try and except to read an integer from the user safely.\n",
    "def integer():\n",
    "    try:\n",
    "        user_input = input(\"Enter an integer: \")\n",
    "        number = int(user_input)\n",
    "        print(\"You entered integer: \", number)\n",
    "    except ValueError:\n",
    "        print(\"This is not a valid integer.\")\n",
    "\n",
    "integer()"
   ]
  },
  {
   "cell_type": "code",
   "execution_count": 127,
   "id": "c02ee615-7d31-4a57-be41-6dc405e6ef19",
   "metadata": {},
   "outputs": [],
   "source": [
    "#Lambda, Map, Filter"
   ]
  },
  {
   "cell_type": "code",
   "execution_count": 129,
   "id": "2c43cab7-e506-431e-9dce-2e6b4b6ae7c4",
   "metadata": {},
   "outputs": [
    {
     "name": "stdout",
     "output_type": "stream",
     "text": [
      "20\n"
     ]
    }
   ],
   "source": [
    "#1- Use a lambda function to add 10 to a given number.\n",
    "added_ten = lambda x: x + 10\n",
    "\n",
    "print(added_ten(10))"
   ]
  },
  {
   "cell_type": "code",
   "execution_count": 133,
   "id": "131c24bb-3a55-4e7c-aadf-772a46ab3401",
   "metadata": {},
   "outputs": [
    {
     "name": "stdout",
     "output_type": "stream",
     "text": [
      "[64, 36, 9, 16]\n"
     ]
    }
   ],
   "source": [
    "#2- Use map and lambda to convert a list of numbers into their squares.\n",
    "numbers = [8,6,3,4]\n",
    "squares = list(map(lambda x: x ** 2, numbers))\n",
    "\n",
    "print(squares)"
   ]
  },
  {
   "cell_type": "code",
   "execution_count": 135,
   "id": "81a27917-08a4-41db-8d70-c62e389db7fe",
   "metadata": {},
   "outputs": [
    {
     "name": "stdout",
     "output_type": "stream",
     "text": [
      "[8]\n"
     ]
    }
   ],
   "source": [
    "#3- Use filter and lambda to extract even numbers from a list.\n",
    "numbers = [8,7,1,3,5]\n",
    "even = list(filter(lambda x: x % 2 == 0, numbers))\n",
    "\n",
    "print(even)"
   ]
  },
  {
   "cell_type": "code",
   "execution_count": 137,
   "id": "ca336bc1-c589-481e-8249-b2a2e208ff36",
   "metadata": {},
   "outputs": [
    {
     "name": "stdout",
     "output_type": "stream",
     "text": [
      "['APPLE', 'ORANGE', 'BANANA']\n"
     ]
    }
   ],
   "source": [
    "#4- Use map and a lambda to convert a list of lowercase strings to uppercase\n",
    "word = ['apple','orange', 'banana']\n",
    "uppercase = list(map(lambda x: x.upper(), word))\n",
    "\n",
    "print(uppercase) "
   ]
  },
  {
   "cell_type": "code",
   "execution_count": 139,
   "id": "b9d4ada4-6479-47a0-8707-60ac6bc0d806",
   "metadata": {},
   "outputs": [
    {
     "name": "stdout",
     "output_type": "stream",
     "text": [
      "[90, 60]\n"
     ]
    }
   ],
   "source": [
    "#5- Use filter and a lambda to find numbers greater than 50 in a given list.\n",
    "numbers = [90,60,2,3,5]\n",
    "greater_than_50 = list(filter(lambda x: x > 50, numbers))\n",
    "\n",
    "print(greater_than_50) "
   ]
  },
  {
   "cell_type": "code",
   "execution_count": 141,
   "id": "fb96be0a-d6fa-4b17-add8-ca92b21c1ca3",
   "metadata": {},
   "outputs": [],
   "source": [
    "#Variable Scope"
   ]
  },
  {
   "cell_type": "code",
   "execution_count": 143,
   "id": "314fcd74-999e-4535-874c-5b91e2eb5e5f",
   "metadata": {},
   "outputs": [
    {
     "name": "stdout",
     "output_type": "stream",
     "text": [
      "This is the global variable 9\n"
     ]
    }
   ],
   "source": [
    "#1- Write a program to show the use of a global variable inside a function\n",
    "number = 9\n",
    "def global_variable():\n",
    "    print(\"This is the global variable\", number)\n",
    "global_variable()"
   ]
  },
  {
   "cell_type": "code",
   "execution_count": 147,
   "id": "d431dc35-aa65-438a-ab92-722f97b6a3da",
   "metadata": {},
   "outputs": [
    {
     "name": "stdout",
     "output_type": "stream",
     "text": [
      "This is the inside the function 8\n",
      "This is the outside the function 9\n"
     ]
    }
   ],
   "source": [
    "#2- Write a program where a local variable inside a function does not affect a global variable with the same name.\n",
    "number = 9\n",
    "def local_variable():\n",
    "    number = 8\n",
    "    print(\"This is the inside the function\", number)\n",
    "local_variable()\n",
    "print(\"This is the outside the function\", number)"
   ]
  },
  {
   "cell_type": "code",
   "execution_count": 155,
   "id": "9d3de6bc-fe52-4faf-a9bc-ca6dcbbbcef8",
   "metadata": {},
   "outputs": [
    {
     "name": "stdout",
     "output_type": "stream",
     "text": [
      "This is the outside the function 15\n"
     ]
    }
   ],
   "source": [
    "# Create a function that modifies a global variable.\n",
    "number = 9\n",
    "def global_variable():\n",
    "    global number\n",
    "    number+=6\n",
    "    \n",
    "global_variable()\n",
    "print(\"This is the outside the function\", number)"
   ]
  },
  {
   "cell_type": "code",
   "execution_count": 163,
   "id": "02bf3774-acc9-43d7-98e4-5c6d6c2b7590",
   "metadata": {},
   "outputs": [
    {
     "name": "stdout",
     "output_type": "stream",
     "text": [
      "Local variable function:  Learn Python\n",
      "Global variable function:  Welcome python world\n"
     ]
    }
   ],
   "source": [
    "#4- Write two functions, one that sets a local variable and one that accesses a global variable. Print both.\n",
    "global_message = \"Welcome python world\"\n",
    "def local_function():\n",
    "    local_message = \"Learn Python\"\n",
    "    print(\"Local variable function: \", local_message)\n",
    "\n",
    "def global_function():\n",
    "    print(\"Global variable function: \", global_message)\n",
    "\n",
    "local_function()\n",
    "global_function()"
   ]
  },
  {
   "cell_type": "code",
   "execution_count": 169,
   "id": "1610c6b0-bf6a-40e8-96cf-bc79f89f3678",
   "metadata": {},
   "outputs": [
    {
     "name": "stdout",
     "output_type": "stream",
     "text": [
      "Variable inside the function Local variable\n",
      "Error, message is not defined\n"
     ]
    }
   ],
   "source": [
    "#5- Write a function where a variable is declared inside the function and show that it cannot be accessed outside.\n",
    "def local_variable():\n",
    "    message = \"Local variable\"\n",
    "    print(\"Variable inside the function\", message)\n",
    "\n",
    "local_variable()\n",
    "\n",
    "try:\n",
    "    print(\"Variable outside the function\", message)\n",
    "except NameError:\n",
    "    print(\"Error, message is not defined\")"
   ]
  },
  {
   "cell_type": "code",
   "execution_count": null,
   "id": "a8fbf493-c544-4ebd-830b-910a279db4a6",
   "metadata": {},
   "outputs": [],
   "source": []
  }
 ],
 "metadata": {
  "kernelspec": {
   "display_name": "Python [conda env:base] *",
   "language": "python",
   "name": "conda-base-py"
  },
  "language_info": {
   "codemirror_mode": {
    "name": "ipython",
    "version": 3
   },
   "file_extension": ".py",
   "mimetype": "text/x-python",
   "name": "python",
   "nbconvert_exporter": "python",
   "pygments_lexer": "ipython3",
   "version": "3.12.7"
  }
 },
 "nbformat": 4,
 "nbformat_minor": 5
}
