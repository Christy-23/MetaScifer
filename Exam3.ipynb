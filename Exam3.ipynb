{
 "cells": [
  {
   "cell_type": "code",
   "execution_count": 1,
   "id": "6fc72472-68ce-4121-b4b8-ecaeec9ed6b5",
   "metadata": {},
   "outputs": [
    {
     "name": "stdout",
     "output_type": "stream",
     "text": [
      "[1, 4, 9]\n"
     ]
    }
   ],
   "source": [
    "print(list(map(lambda x: x*x, [1, 2, 3])))"
   ]
  },
  {
   "cell_type": "code",
   "execution_count": 5,
   "id": "6dc105b9-093c-4a42-8848-04c8586baae4",
   "metadata": {},
   "outputs": [
    {
     "name": "stdin",
     "output_type": "stream",
     "text": [
      "Enter the mark_1:  69\n",
      "Enter the mark_2:  98\n"
     ]
    },
    {
     "name": "stdout",
     "output_type": "stream",
     "text": [
      "Your total marks is:  167\n"
     ]
    }
   ],
   "source": [
    "#Explain the purpose of the else block in a try-except-else construct.\n",
    "#We can explain using a code that is given below\n",
    "try:\n",
    "    mark_1=int(input('Enter the mark_1: '))\n",
    "    mark_2=int(input('Enter the mark_2: '))\n",
    "    total_marks=mark_1+mark_2\n",
    "except:\n",
    "    print(\"Please enter your mark as integer\")\n",
    "else:\n",
    "    print(\"Your total marks is: \", total_marks)\n",
    "\n",
    "#else statement used to return the output"
   ]
  },
  {
   "cell_type": "code",
   "execution_count": 9,
   "id": "5c88dcd9-f101-459f-a8d0-1104e957523a",
   "metadata": {},
   "outputs": [
    {
     "name": "stdout",
     "output_type": "stream",
     "text": [
      "First Matrix: \n",
      " [[ 5  7 11]\n",
      " [11  6 12]\n",
      " [10  7 14]]\n",
      "Second Matrix: \n",
      " [[12  8 14]\n",
      " [14 12  7]\n",
      " [10 13 10]]\n"
     ]
    }
   ],
   "source": [
    "#Combine two 3x3 matrices using np.concatenate along axis 0 and axis 1.\n",
    "import numpy as np\n",
    "from numpy.random import randint as ri\n",
    "matrix1=np.array(ri(5,15,9)).reshape(3,3)\n",
    "matrix2=np.array(ri(5,15,9)).reshape(3,3)\n",
    "print(\"First Matrix: \\n\", matrix1)\n",
    "print(\"Second Matrix: \\n\", matrix2)"
   ]
  },
  {
   "cell_type": "code",
   "execution_count": 21,
   "id": "f354a130-7bf1-488e-9f30-e2744a67674b",
   "metadata": {},
   "outputs": [
    {
     "name": "stdout",
     "output_type": "stream",
     "text": [
      "Concatenate Matrix along axis=0: \n",
      " [[ 5  7 11]\n",
      " [11  6 12]\n",
      " [10  7 14]\n",
      " [12  8 14]\n",
      " [14 12  7]\n",
      " [10 13 10]]\n"
     ]
    }
   ],
   "source": [
    "concatenate_matrix1=np.concatenate((matrix1, matrix2), axis=0)\n",
    "print(\"Concatenate Matrix along axis=0: \\n\", concatenate_matrix1)\n"
   ]
  },
  {
   "cell_type": "code",
   "execution_count": 23,
   "id": "a0439924-e89a-493e-b7d2-7b986b9b732b",
   "metadata": {},
   "outputs": [
    {
     "name": "stdout",
     "output_type": "stream",
     "text": [
      "Concatenate Matrix along axis=1: \n",
      " [[ 5  7 11 12  8 14]\n",
      " [11  6 12 14 12  7]\n",
      " [10  7 14 10 13 10]]\n"
     ]
    }
   ],
   "source": [
    "concatenate_matrix2=np.concatenate((matrix1, matrix2), axis=1)\n",
    "print(\"Concatenate Matrix along axis=1: \\n\", concatenate_matrix2)"
   ]
  },
  {
   "cell_type": "code",
   "execution_count": null,
   "id": "ee4d491b-1585-41ba-a891-c95af93ff4c2",
   "metadata": {},
   "outputs": [],
   "source": []
  }
 ],
 "metadata": {
  "kernelspec": {
   "display_name": "Python [conda env:base] *",
   "language": "python",
   "name": "conda-base-py"
  },
  "language_info": {
   "codemirror_mode": {
    "name": "ipython",
    "version": 3
   },
   "file_extension": ".py",
   "mimetype": "text/x-python",
   "name": "python",
   "nbconvert_exporter": "python",
   "pygments_lexer": "ipython3",
   "version": "3.12.7"
  }
 },
 "nbformat": 4,
 "nbformat_minor": 5
}
