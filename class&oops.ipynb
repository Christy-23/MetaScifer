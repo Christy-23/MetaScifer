{
 "cells": [
  {
   "cell_type": "code",
   "execution_count": 5,
   "id": "b578a64b-0619-497e-aa59-2ccea322d562",
   "metadata": {},
   "outputs": [],
   "source": [
    "class Account:\n",
    "    def __init__(self,account_holder_name,account_holder_last_name,city_of_user,id_of_user,user_password,user_phone_number): #attribute/arguments\n",
    "        self.account_holder_name=account_holder_name\n",
    "        self.account_holder_last_name=account_holder_last_name\n",
    "        self.city_of_user=city_of_user\n",
    "        self.id_of_user=id_of_user\n",
    "        self.user_password=user_password\n",
    "        self.user_phone_number=user_phone_number\n",
    "    def show_details(self):\n",
    "        print(self.account_holder_name,self.account_holder_last_name,self.city_of_user,self.id_of_user,self.user_password,self.user_phone_number)"
   ]
  },
  {
   "cell_type": "code",
   "execution_count": 7,
   "id": "60e39be8-2e31-4236-87a5-2241779a8b43",
   "metadata": {},
   "outputs": [
    {
     "name": "stdout",
     "output_type": "stream",
     "text": [
      "Christy Johnson Kollam christy_johnson christy1234 5612356913\n"
     ]
    }
   ],
   "source": [
    "details_of_account_holder=Account(\"Christy\",\"Johnson\",\"Kollam\",\"christy_johnson\",\"christy1234\",5612356913)\n",
    "details_of_account_holder.show_details()"
   ]
  },
  {
   "cell_type": "code",
   "execution_count": 17,
   "id": "d916b7aa-c7d8-4491-b240-aa17da545cce",
   "metadata": {},
   "outputs": [
    {
     "name": "stdin",
     "output_type": "stream",
     "text": [
      "Enter Your First Name:  Christy\n",
      "Enter Your Last Name:  Johnson\n",
      "Enter Your City Name:  Kollam\n",
      "Enter Your User Id:  christy345\n",
      "Enter Your Password:  christy__\n",
      "Enter Your 10 Digit Phone Number:  5678464862\n",
      " Enter Your User ID:  christy345\n",
      "Enter Your password:  christy__\n"
     ]
    },
    {
     "name": "stdout",
     "output_type": "stream",
     "text": [
      "You are Login Sucessfully \n"
     ]
    }
   ],
   "source": [
    "class Account:\n",
    "    def __init__(self,account_holder_name=input(\"Enter Your First Name: \"),\n",
    "                account_holder_last_name=input(\"Enter Your Last Name: \"),\n",
    "                city_of_user=input(\"Enter Your City Name: \"),\n",
    "                id_of_user=input(\"Enter Your User Id: \"),\n",
    "                user_password=input(\"Enter Your Password: \"),\n",
    "                user_phone_number=input(\"Enter Your 10 Digit Phone Number: \")):\n",
    "        self.account_holder_name=account_holder_name\n",
    "        self.account_holder_last_name=account_holder_last_name\n",
    "        self.city_of_user=city_of_user\n",
    "        self.id_of_user=id_of_user\n",
    "        self.user_password=user_password\n",
    "        self.user_phone_number=user_phone_number\n",
    "    def login(self):\n",
    "         while True:\n",
    "            user_ids=input(\" Enter Your User ID: \")\n",
    "            passwords=input(\"Enter Your password: \")\n",
    "\n",
    "            if user_ids==self.id_of_user and passwords==self.user_password:\n",
    "                print(\"You are Login Sucessfully \")\n",
    "                break\n",
    "            else:\n",
    "                print(\"You have entered Wrong Password or User ID\")\n",
    "                continue\n",
    "c=Account()\n",
    "c.login()"
   ]
  },
  {
   "cell_type": "code",
   "execution_count": 27,
   "id": "d5e23121-6104-4338-919d-efd063f9f755",
   "metadata": {},
   "outputs": [
    {
     "name": "stdin",
     "output_type": "stream",
     "text": [
      " Enter Your User ID:  christy345\n",
      "Enter Your password:  christy__\n"
     ]
    },
    {
     "name": "stdout",
     "output_type": "stream",
     "text": [
      "You are Login Sucessfully \n"
     ]
    }
   ],
   "source": [
    "class User_Account(Account):\n",
    "    def __init__(self,account_number,balance,*args):\n",
    "        super(User_Account,self).__init__(*args)\n",
    "        self.account_number=account_number\n",
    "        self.balance=balance\n",
    "            \n",
    "    def user_details(self):\n",
    "        while True:\n",
    "            account=int(input(\"Enter Your Account Number: \"))\n",
    "            if account==self.account_number:\n",
    "                print(\"Name =\", self.account_holder_name)\n",
    "                print(\"Account Number =\",self.account_number)\n",
    "                print(\"Balance =\",self.balance )\n",
    "                break\n",
    "            else:\n",
    "                print(\"Account Number is not valid\")\n",
    "                continue\n",
    "    def deposit(self):\n",
    "        print(\"Your Previous Balance is\",self.balance)\n",
    "        add_cash=int(input(\"Enter Ammount\"))\n",
    "        self.balance= self.balance+add_cash\n",
    "        print(\"Your account credit with\",add_cash, \"and now your balace is\" ,self.balance)\n",
    "    def transfer(self):\n",
    "        print(\"Your Previous Balance is\",self.balance)\n",
    "        withdrawl=int(input(\"Enter How much you want to withdraw\"))\n",
    "        if withdrawl<=self.balance:\n",
    "            self.balance-=withdrawl\n",
    "            print(\"The Withdraws ammount is\",self.account_number,\"and you left balance is \" ,self.balance)\n",
    "            \n",
    "        else:\n",
    "            print(\"Alert:Hello You Dont have sufficient Balance to withdra\")\n",
    "bank=User_Account(45689,1000)\n",
    "bank.login()"
   ]
  },
  {
   "cell_type": "code",
   "execution_count": 29,
   "id": "98027bab-a96c-43d2-a67f-1f93f346e858",
   "metadata": {},
   "outputs": [
    {
     "name": "stdin",
     "output_type": "stream",
     "text": [
      "Enter Your Account Number:  45689\n"
     ]
    },
    {
     "name": "stdout",
     "output_type": "stream",
     "text": [
      "Name = Christy\n",
      "Account Number = 45689\n",
      "Balance = 1000\n"
     ]
    }
   ],
   "source": [
    "bank.user_details()"
   ]
  },
  {
   "cell_type": "code",
   "execution_count": 31,
   "id": "40d40e20-ea94-419a-9f26-b5b02f43b43d",
   "metadata": {},
   "outputs": [
    {
     "name": "stdout",
     "output_type": "stream",
     "text": [
      "Your Previous Balance is 1000\n"
     ]
    },
    {
     "name": "stdin",
     "output_type": "stream",
     "text": [
      "Enter Ammount 200\n"
     ]
    },
    {
     "name": "stdout",
     "output_type": "stream",
     "text": [
      "Your account credit with 200 and now your balace is 1200\n"
     ]
    }
   ],
   "source": [
    "bank.deposit()"
   ]
  },
  {
   "cell_type": "code",
   "execution_count": 33,
   "id": "c5557a8f-4f0f-4713-9682-c3cdaf01cd17",
   "metadata": {},
   "outputs": [
    {
     "name": "stdout",
     "output_type": "stream",
     "text": [
      "Your Previous Balance is 1200\n"
     ]
    },
    {
     "name": "stdin",
     "output_type": "stream",
     "text": [
      "Enter How much you want to withdraw 1000\n"
     ]
    },
    {
     "name": "stdout",
     "output_type": "stream",
     "text": [
      "The Withdraws ammount is 45689 and you left balance is  200\n"
     ]
    }
   ],
   "source": [
    "bank.transfer()"
   ]
  },
  {
   "cell_type": "code",
   "execution_count": 41,
   "id": "17c2189f-7aa6-4868-a858-6e5ccf4846db",
   "metadata": {},
   "outputs": [
    {
     "name": "stdout",
     "output_type": "stream",
     "text": [
      "Tyre \n",
      "\t Branch MRF\n",
      "\tBelted True\n",
      "\tpressure 34\n",
      "  \n",
      "\t The fuel type is  petrol\n",
      "\t The noise level is  2.3\n",
      "\n",
      "\t Body Size of car is sedan\n"
     ]
    }
   ],
   "source": [
    "class Tyres:\n",
    "    def __init__(self,branch,belted,pressure):\n",
    "        self.branch=branch\n",
    "        self.belted=belted\n",
    "        self.pressure=pressure\n",
    "    def __str__(self) :\n",
    "        return(\"Tyre \\n\\t Branch \"+self.branch+\n",
    "               \"\\n\\tBelted \"+str(self.belted)+\n",
    "               \"\\n\\tpressure \"+str(self.pressure))\n",
    "class Engine:\n",
    "    def __init__(self,type_of_fuel,level_of_noise):\n",
    "        self.type_of_fuel=type_of_fuel\n",
    "        self.level_of_noise=level_of_noise\n",
    "    def __str__(self):\n",
    "        return(\"\\n\\t The fuel type is  \"+self.type_of_fuel+\n",
    "              \"\\n\\t The noise level is  \"+str(self.level_of_noise))\n",
    "class Body():\n",
    "    def __init__(self,size):\n",
    "        self.size=size\n",
    "    def __str__(self):\n",
    "        return(\"\\n\\t Body Size of car is \"+self.size)\n",
    "    \n",
    "class Car():\n",
    "    def __init__(self,Tyres,Engine,Body):\n",
    "        self.Tyres=Tyres\n",
    "        self.Engine=Engine\n",
    "        self.Body=Body\n",
    "    def __str__(self):\n",
    "        return   str(self.Tyres) +\"\\n  \"  + str(self.Engine) +\"\\n\" +  str(self.Body)\n",
    "t=Tyres(\"MRF\",True,34)\n",
    "e=Engine(\"petrol\",2.3)\n",
    "b=Body(\"sedan\")\n",
    "c=Car(t,e,b)\n",
    "print(c)"
   ]
  },
  {
   "cell_type": "code",
   "execution_count": null,
   "id": "04229b56-d970-4652-9669-c1d7d1a00cbc",
   "metadata": {},
   "outputs": [],
   "source": []
  }
 ],
 "metadata": {
  "kernelspec": {
   "display_name": "Python [conda env:base] *",
   "language": "python",
   "name": "conda-base-py"
  },
  "language_info": {
   "codemirror_mode": {
    "name": "ipython",
    "version": 3
   },
   "file_extension": ".py",
   "mimetype": "text/x-python",
   "name": "python",
   "nbconvert_exporter": "python",
   "pygments_lexer": "ipython3",
   "version": "3.12.7"
  }
 },
 "nbformat": 4,
 "nbformat_minor": 5
}
