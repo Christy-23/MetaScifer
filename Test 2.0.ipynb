{
 "cells": [
  {
   "cell_type": "markdown",
   "id": "c6bb63c0",
   "metadata": {},
   "source": [
    "## Test 2.0\n"
   ]
  },
  {
   "cell_type": "markdown",
   "id": "10254b5c",
   "metadata": {},
   "source": [
    "# Functions\n",
    "\n",
    "1- Write a function that takes a number and returns its square.\n",
    "\n",
    "2- Write a function that takes two numbers and returns the larger one.\n",
    "\n",
    "3- Write a function that prints “Welcome to AIML” five times using a loop.\n",
    "\n",
    "4- Write a function that checks if a number is even or odd.\n",
    "\n",
    "5- Create a function that takes a list and returns the sum of all elements.\n",
    "\n"
   ]
  },
  {
   "cell_type": "markdown",
   "id": "698dc343",
   "metadata": {},
   "source": [
    "# Loops\n",
    "1- Write a for loop to print numbers from 1 to 10.\n",
    "\n",
    "2- Write a while loop to print all even numbers between 1 and 20.\n",
    "\n",
    "3- Write a loop to print each character of a given string.\n",
    "\n",
    "4- Write a loop that prints the multiplication table of 5.\n",
    "\n",
    "5- Write a loop that takes a list of numbers and prints only the positive ones.\n",
    "\n"
   ]
  },
  {
   "cell_type": "markdown",
   "id": "13c214b7",
   "metadata": {},
   "source": [
    "#  Try and Except\n",
    "1- Write a function that takes two numbers and divides them. Use try and except to handle divide-by-zero errors.\n",
    "\n",
    "2- Write a program that asks the user for a number and handles the case where the input is not a number using try and except.\n",
    "\n",
    "3- Write a program that opens a file using try, and prints a custom error if the file is not found.\n",
    "\n",
    "4- Create a function that adds two numbers, and raises an error message if one of the inputs is not a number.\n",
    "\n",
    "5- Write a program using try and except to read an integer from the user safely."
   ]
  },
  {
   "cell_type": "markdown",
   "id": "c7922ba5",
   "metadata": {},
   "source": [
    "# Lambda, Map, Filter\n",
    "1- Use a lambda function to add 10 to a given number.\n",
    "\n",
    "2- Use map and lambda to convert a list of numbers into their squares.\n",
    "\n",
    "3- Use filter and lambda to extract even numbers from a list.\n",
    "\n",
    "4- Use map and a lambda to convert a list of lowercase strings to uppercase.\n",
    "\n",
    "5- Use filter and a lambda to find numbers greater than 50 in a given list.\n",
    "\n"
   ]
  },
  {
   "cell_type": "markdown",
   "id": "3cf0ce11",
   "metadata": {},
   "source": [
    "# Variable Scope\n",
    "1- Write a program to show the use of a global variable inside a function.\n",
    "\n",
    "2- Write a program where a local variable inside a function does not affect a global variable with the same name.\n",
    "\n",
    "3- Create a function that modifies a global variable.\n",
    "\n",
    "4- Write two functions, one that sets a local variable and one that accesses a global variable. Print both.\n",
    "\n",
    "5- Write a function where a variable is declared inside the function and show that it cannot be accessed outside."
   ]
  },
  {
   "cell_type": "raw",
   "id": "e3fb195d",
   "metadata": {},
   "source": [
    "Universal Input List \n",
    "You can use this list for most questions that require a list or numeric collection:\n",
    "\n",
    "numbers = [5, -2, 12, 7, 0, 33, -10, 8]\n",
    "words = [\"apple\", \"banana\", \"kiwi\", \"fig\", \"strawberry\", \"grape\"]\n"
   ]
  },
  {
   "cell_type": "raw",
   "id": "9e1bacf0",
   "metadata": {},
   "source": [
    "All the Best"
   ]
  },
  {
   "cell_type": "code",
   "execution_count": null,
   "id": "f1e622e6",
   "metadata": {},
   "outputs": [],
   "source": []
  }
 ],
 "metadata": {
  "kernelspec": {
   "display_name": "Python 3 (ipykernel)",
   "language": "python",
   "name": "python3"
  },
  "language_info": {
   "codemirror_mode": {
    "name": "ipython",
    "version": 3
   },
   "file_extension": ".py",
   "mimetype": "text/x-python",
   "name": "python",
   "nbconvert_exporter": "python",
   "pygments_lexer": "ipython3",
   "version": "3.10.12"
  }
 },
 "nbformat": 4,
 "nbformat_minor": 5
}
